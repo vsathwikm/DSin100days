{
 "cells": [
  {
   "cell_type": "markdown",
   "metadata": {},
   "source": [
    "## Refactored's Visual Wizards Workshop - World Welfare and GDP\n",
    "\n",
    "Hans Rosling, a reknowned statistician had presented a TED talk in 2006, about world welfare and GDP data. You can see Hans' original talk below."
   ]
  },
  {
   "cell_type": "code",
   "execution_count": null,
   "metadata": {},
   "outputs": [],
   "source": [
    "from IPython.lib.display import YouTubeVideo\n",
    "YouTubeVideo(id='hVimVzgtD6w', width=900, height=550)"
   ]
  },
  {
   "cell_type": "markdown",
   "metadata": {},
   "source": [
    "In this workshop we will try to visualize a dataset that contains information about Gross Domestic Product (GDP) per capita, Population, Child Mortality Rate (children 5 or below) and Life Expectancy (average lifespan) of the 180+ countries of this world, over the span of 1950 to 2017. \n",
    "\n",
    "We will work to recreate some of the visualizations Hans had created.\n",
    "\n",
    "This data was sourced by the world demographic data repositories of the United Nations (UN) and a website which collates various such valuable demographic data \"Our World in Data\" (https://ourworldindata.org).\n",
    "\n",
    "Before we begin we would like to understand a few terms -\n",
    "1. Gross Domestic Product (GDP): The Gross Domestic Product is the total value (in dollars or any other currency) of goods produced and services provided within a country.\n",
    "2. GDP Per Capita: The GDP per capita is the value derived when the GDP of the country is divided by its population. The number signifies the approximate amount of money (in dollars or other currency) in terms of products or services that is available for each individual within the country.\n",
    "3. Child Mortality Rate (MR): Mortality Rate is given here by the percentage of deaths of child under the age of 5.\n",
    "\n",
    "Child Mortality Rate and Life Expectancy are two of the measures which convey the quality, availability and affordability of food, water, healthcare etc., within a country. When these metrics are combined with the GDP per capita of a country, we can understand whether the economic condition of the country is supportive of basic survival. \n",
    "\n",
    "We will now try to analyze the data collected, by building visualizations using 'pyvizwizards' library. The pyvizwizards library is created by the Refactored team and has functions which can be used to load, select and visualize the above datasets. It is based on Plotly and Plotly Express - an interactive plotting library that helps visualize multi-dimensional data.\n",
    "\n",
    "As a pre-requisite to building visualizations using python and pyizwizards module, there are a couple of things we need to do:\n",
    "\n",
    "### How to execute code in a Jupyter Notebook?\n",
    "\n",
    "Just click on any code cell and press <b><h3>\"Control+Enter\"</h3></b> <br>keys (+ means press together) to execute the code in the cell.\n",
    "\n",
    "### Kernel status\n",
    "\n",
    "When we run a code, sometimes it may take a long time to run. In such a situation, we are to be patient and check the status of the kernel, before running the next piece of code. The circle to the top right corner of this notebook shows whether the kernel is running and busy, or is idle and ready to execute some code.\n",
    "\n",
    "<b>Kernel is idle when the circle is hollow and looks like a ring</b>\n",
    "\n",
    "<img src=\"kernel_idle.PNG\">\n",
    "<br>\n",
    "\n",
    "<b>Kernel is busy when the circle is filled, as shown below</b>\n",
    "\n",
    "<img src=\"kernel_busy.PNG\">\n",
    "\n",
    "### Installing required libraries\n",
    "\n",
    "The pyvizwizards library can be used by simply writing the command \"import pyvizwizards as pv\" and executing it a code cell. 'import pyvizwizards' imports the module into this notebook's working environment and 'as pv' is the alias that we are assigning in order to access everything inside the pyvizwizard module. Any function that you see given below needs to be called with 'pv' alias.\n",
    "\n",
    "```python\n",
    "# the import statement\n",
    "import pyvizwizards as pv\n",
    "\n",
    "# sample function call statement\n",
    "pv.function_name()\n",
    "```\n",
    "\n",
    "Note that the import statement needs to be executed only once through the notebook. However, functions may have to be called repeatedly to get various results.\n",
    "\n",
    "Now, in order for 'pyvizwizards' to work, we must ensure we have plotly and plotly express installed in this environment. Please run each of the code cells given below."
   ]
  },
  {
   "cell_type": "code",
   "execution_count": null,
   "metadata": {},
   "outputs": [],
   "source": [
    "!pip install plotly"
   ]
  },
  {
   "cell_type": "code",
   "execution_count": null,
   "metadata": {},
   "outputs": [],
   "source": [
    "!pip install plotly_express"
   ]
  },
  {
   "cell_type": "markdown",
   "metadata": {},
   "source": [
    "\n",
    "### Step 1: Loading the Data\n",
    "\n",
    "The first step within our exercise is to load the data. There are two different datasets - Life Expectancy dataset and Mortality Rate dataset. They can be loaded using below given functions.\n",
    "\n",
    "```python\n",
    "# import statement when starting code execution for the first time in the notebook\n",
    "import pyvizwizards as pv\n",
    "\n",
    "# load life expectancy dataset using this method - function takes no arguments\n",
    "pv.load_le_data()\n",
    "\n",
    "# load mortality rate dataset using this method - function takes no arguments\n",
    "pv.load_mr_data()\n",
    "```\n",
    "\n",
    "The above functions return the dataframe as the answer. Now you are required to store this answer (which is the entire dataset you want to load), into an object which you can later use in your analysis. Hence, create an object and assign it with the value the function would return by equating the new object with the function result. This is simple done as below:\n",
    "\n",
    "```python\n",
    "my_dataframe = pv.load_le_data()\n",
    "```"
   ]
  },
  {
   "cell_type": "code",
   "execution_count": null,
   "metadata": {},
   "outputs": [],
   "source": []
  },
  {
   "cell_type": "markdown",
   "metadata": {},
   "source": [
    "### Step 2: Understanding the Data\n",
    "\n",
    "The next step is to view and understand the data using a few functions:\n",
    "\n",
    "#### To view the whole dataset\n",
    "\n",
    "```python\n",
    "# just type the name of the data frame object into which you had loaded the data\n",
    "my_dataframe\n",
    "```\n",
    "\n",
    "#### To view only the first or last few rows\n",
    "\n",
    "```python\n",
    "# To view the first 5 lines of the dataset use the head function\n",
    "my_dataframe.head()\n",
    "\n",
    "# To view the last 5 lines of the dataset use the tail function\n",
    "my_dataframe.tail()\n",
    "```\n",
    "\n",
    "#### To view the type of data in each column\n",
    "\n",
    "```python\n",
    "# To see the type of object and data type details of each column, use the info function\n",
    "my_dataframe.info()\n",
    "```"
   ]
  },
  {
   "cell_type": "code",
   "execution_count": null,
   "metadata": {},
   "outputs": [],
   "source": []
  },
  {
   "cell_type": "markdown",
   "metadata": {},
   "source": [
    "### Step 3: Selecting the Data\n",
    "\n",
    "Let us first try to build a visualization with the datasets we have just loaded. Copy paste the code given below changing only the dataframe parameter with the name of the dataframe you have given above.\n",
    "\n",
    "```python\n",
    "# For mortality rate dataset\n",
    "pv.gdptrend_mr_plot(dataframe)\n",
    "\n",
    "# For life expectancy dataset\n",
    "pv.bar_le_plot(dataframe)\n",
    "```"
   ]
  },
  {
   "cell_type": "code",
   "execution_count": null,
   "metadata": {},
   "outputs": [],
   "source": []
  },
  {
   "cell_type": "markdown",
   "metadata": {},
   "source": [
    "If you see, cluttered graphs, that is because the dataset you have chosen to build a visual on, was too deep and too wide, i.e. many many points of data. Hence, there is a need to filter/select data that we want to focus on in order to answer specific questions.\n",
    "\n",
    "We can now select a slice of the dataset using selector functions:\n",
    "\n",
    "#### Life Expectancy Data Selector Function - le_data_selector(dframe, c_list, y_range):\n",
    "\n",
    "The le_data_selector() function can be used to select a portion of the huge life expectancy dataset. This function accepts 3 parameters - the dataframe object which contains the life expectancy dataset, the list of countries we want to filter data for, the time range, in years, that we would like to filter the dataset by.\n",
    "\n",
    "```python\n",
    "# below is an example of how to use the le_data_selection function\n",
    "pv.le_data_selector(dataframe,['Country1','Country2','Country3',...],[Starting year, Ending year])\n",
    "```\n",
    "\n",
    "#### Mortality Rate Data Selector Function - mr_data_selector(dframe, c_list, y_range):\n",
    "\n",
    "The mr_data_selector() function can be used to select a portion of the huge mortality rate dataset. Similar to the life expectancy data selector function, this function also accepts 3 parameters - the dataframe object which contains the life expectancy dataset, the list of countries we want to filter data for, the time range, in years, that we would like to filter the dataset by.\n",
    "\n",
    "```python\n",
    "# below is an example of how to use the le_data_selection function\n",
    "pv.mr_data_selector(dataframe,['Country1','Country2','Country3',...],[Starting year, Ending year])\n",
    "```\n",
    "\n",
    "These above functions return a filtered dataset as the result, which can then be used for focussed analysis. These functions should be used repeatedly to create new dataframes for each question we would be answering."
   ]
  },
  {
   "cell_type": "code",
   "execution_count": null,
   "metadata": {},
   "outputs": [],
   "source": []
  },
  {
   "cell_type": "markdown",
   "metadata": {},
   "source": [
    "### Step 4: Visualizing the Data\n",
    "\n",
    "Data Visualizations help us understand information, identify trends and answer questions quickly. We will now create various visualizations in order to answer certain questions.\n",
    "\n",
    "### Q1 - Showcase the contribution of each continent to World GDP. Which continent contributes the highest in the years -\n",
    "#### a. 1987\n",
    "#### b. 1997\n",
    "#### c. 2007\n",
    "\n",
    "In the above scenario, we are to showcase the contribution of each continent to World GDP. If we imagine the total World GDP to be a hug pie, we then need to show each continent as a slice of that pie. Hence, when a breakup of a total is what is to be visualized, a pie chart is the way to go.\n",
    "\n",
    "We can create a simple pie chart using the following function:\n",
    "\n",
    "```python\n",
    "pv.pie_le_plot(dataframe, year)\n",
    "```\n",
    "\n",
    "The pie_le_plot uses the life expectancy dataset and accepts two parameters - the dataframe object that contains the dataset and the year for which you want to visualize the total GDP breakup."
   ]
  },
  {
   "cell_type": "code",
   "execution_count": null,
   "metadata": {},
   "outputs": [],
   "source": []
  },
  {
   "cell_type": "markdown",
   "metadata": {},
   "source": [
    "### Q2 - What are the trends in GDP per capita of each of the country groups given below, in the year range of 1990-2015?\n",
    "#### a. United Kingdom, Germany, France\n",
    "#### b. India, China, Brazil\n",
    "#### c. Zimbabwe, Nigeria, Afghanistan\n",
    "\n",
    "For the above question, GDP per capita is the main metric whose change is to be observed over time for each individual country. These trends are drawn for each country within the group and then compared with each other to make some observations. In order to visualize the change in a specific metric within the same category, trend line (or line plot) is one of the better charts to build.\n",
    "\n",
    "We can create a simple line plot using the following function:\n",
    "\n",
    "```python\n",
    "pv.gdptrend_mr_plot(dataframe)\n",
    "```\n",
    "\n",
    "The gdptrend_mr_plot utilizes the mortality rate dataset and builds the line plot using a single parameter - the dataframe object that contains the dataset."
   ]
  },
  {
   "cell_type": "code",
   "execution_count": null,
   "metadata": {},
   "outputs": [],
   "source": []
  },
  {
   "cell_type": "markdown",
   "metadata": {},
   "source": [
    "#### Bonus: Q2 - In the above trend plot, compare the GDP trends of countries within your group. Do you observe any interesting patterns? Why are these patterns created? You may conduct external research to understand and answer why these interesting patterns arise."
   ]
  },
  {
   "cell_type": "code",
   "execution_count": null,
   "metadata": {},
   "outputs": [],
   "source": []
  },
  {
   "cell_type": "markdown",
   "metadata": {},
   "source": [
    "### Q3 - Compare the Life Expectancy of countries with each other in the below given groups, for the year 2007\n",
    "#### a. United Kingdom, India, Zimbabwe\n",
    "#### b. Germany, China, Nigeria\n",
    "#### c. France, Brazil, Afghanistan\n",
    "\n",
    "For the above question, Life Expectancy is the main metric whose change is to be observed for each individual country and then compare it with each other. Whenever we are required to compare a same attribute or quality across multiple categories/entities, we can use the bar chart. The length of the bars under each category are representative of the value the specific metric holds. This allows for easy visual comparison.\n",
    "\n",
    "We can create a simple line plot using the following function:\n",
    "\n",
    "```python\n",
    "pv.bar_le_plot(dataframe)\n",
    "```\n",
    "\n",
    "The bar_le_plot utilizes the life expectancy dataset and builds the line plot using a single parameter - the dataframe object that contains the dataset."
   ]
  },
  {
   "cell_type": "code",
   "execution_count": null,
   "metadata": {},
   "outputs": [],
   "source": []
  },
  {
   "cell_type": "markdown",
   "metadata": {},
   "source": [
    "#### Bonus: Q3 - In the above bar plot, compare the Life Expectancy across countries within your group. Do you observe any interesting patterns? Why are these patterns created? You may conduct external research to understand and answer why these interesting patterns arise."
   ]
  },
  {
   "cell_type": "code",
   "execution_count": null,
   "metadata": {},
   "outputs": [],
   "source": []
  },
  {
   "cell_type": "markdown",
   "metadata": {},
   "source": [
    "### Q4 - Present a colorful visualization of GDP per capita between the years 1990 to 2015, for countries in the below given group, on a map\n",
    "#### 'Afghanistan','China','India','United States','United Kingdom','Brazil','Zimbabwe', 'Namibia',\n",
    "#### 'Nigeria','Somalia','Thailand','France','Germany','Mexico','Australia','New Zealand'\n",
    "\n",
    "For this question, we are required to create a map chart. Map charts are helpful in visualizing data that is changing on a geographical scale - from country to country/region to region.\n",
    "\n",
    "We can create a map chart by using the following function:\n",
    "\n",
    "```python\n",
    "pv.map_le_plot(dataframe)\n",
    "```\n",
    "\n",
    "Note that this function uses the life expectancy dataset. This is because geographical data about country locations (contained in a variable called 'iso_alpha') is only available in life expectancy dataset."
   ]
  },
  {
   "cell_type": "code",
   "execution_count": null,
   "metadata": {},
   "outputs": [],
   "source": []
  },
  {
   "cell_type": "markdown",
   "metadata": {},
   "source": [
    "#### Bonus: Q4 - In the above map, compare the GDP per capita across countries using their color code. Do you observe any interesting patterns? Why are these patterns created? You may conduct external research to understand and answer why these interesting patterns arise."
   ]
  },
  {
   "cell_type": "code",
   "execution_count": null,
   "metadata": {},
   "outputs": [],
   "source": []
  },
  {
   "cell_type": "markdown",
   "metadata": {},
   "source": [
    "### Q5 - How has life expectancy changed over the years (starting from 1952 to 2007), in countries, across various continents? Build an animated plot to visualize the change in life expectancy over the years for the below given countries\n",
    "#### a. For Asia - India, China, Afghanistan, Thailand, Japan\n",
    "#### b. For Americas - United States, Canada, Mexico, Brazil, Peru\n",
    "#### c. For Africa - Nigeria, Somalia, Namibia, South Africa, Zimbabwe\n",
    "\n",
    "For this animated plot we use a bubble chart. Bubble charts can be used to visualize multi-dimensional (upto 4 dimensions) data.\n",
    "* 1st dimension - X-axis\n",
    "* 2nd dimension - Y- axis\n",
    "* 3rd dimension - Size of the Bubble\n",
    "* 4th dimension - Color of the Bubble\n",
    "\n",
    "In this case, the life expectancy dataset will be used to build this visualization. The chart would have GDP per capita on X-axis, Life Expectancy in years on the Y-axis, the population of the country as the size of the bubble, and the bubbles would be color coded based on the country - so it would be easy to track the moment of a bubble (a country) over time.\n",
    "\n",
    "We can use the below function to create the animated plot\n",
    "\n",
    "```python\n",
    "pv.animated_le_plot(dataframe)\n",
    "```\n",
    "\n",
    "The animated_le_plot() function accepts only 1 parameter - the dataframe object which contains the dataset that we want to visualize."
   ]
  },
  {
   "cell_type": "code",
   "execution_count": null,
   "metadata": {},
   "outputs": [],
   "source": []
  },
  {
   "cell_type": "markdown",
   "metadata": {},
   "source": [
    "#### Bonus: Q5 - For your group, write down and present the trends that you have observed for Life Expectancy in countries over the years? Which countries are progressing? Which countries are getting worse? Why is it happening? Conduct external research to find suitable arguments and justifications to support your presentation."
   ]
  },
  {
   "cell_type": "code",
   "execution_count": null,
   "metadata": {},
   "outputs": [],
   "source": []
  },
  {
   "cell_type": "markdown",
   "metadata": {},
   "source": [
    "### Data Bloopers - The Magical Somalia"
   ]
  },
  {
   "cell_type": "code",
   "execution_count": null,
   "metadata": {},
   "outputs": [],
   "source": [
    "import pyvizwizards as pv\n",
    "\n",
    "mr_df = pv.load_mr_data()\n",
    "\n",
    "funny_df = pv.mr_data_selector(mr_df,['Afghanistan','United States','Brazil','Zimbabwe','Namibia','Nigeria','Somalia','Thailand','Mexico'],[1990,2015])\n",
    "\n",
    "pv.animated_mr_plot(funny_df)"
   ]
  }
 ],
 "metadata": {
  "kernelspec": {
   "display_name": "Python 3",
   "language": "python",
   "name": "python3"
  },
  "language_info": {
   "codemirror_mode": {
    "name": "ipython",
    "version": 3
   },
   "file_extension": ".py",
   "mimetype": "text/x-python",
   "name": "python",
   "nbconvert_exporter": "python",
   "pygments_lexer": "ipython3",
   "version": "3.7.3"
  }
 },
 "nbformat": 4,
 "nbformat_minor": 2
}
