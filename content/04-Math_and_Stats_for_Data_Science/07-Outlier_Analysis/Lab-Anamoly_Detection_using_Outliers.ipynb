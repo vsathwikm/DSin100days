{
 "cells": [
  {
   "cell_type": "markdown",
   "metadata": {},
   "source": [
    "## Lab - Anamoly Detection using Outlier Analysis\n",
    "\n",
    "Outlier Analysis is used by many organizations for various purposes. Many Financial Services enterprises utilize Outlier Analysis as part of their Anamoly Detection methods. Collective Outliers are often analyzed to identify any unpredictable behavior.\n",
    "\n",
    "Below given code loads the sample transaction data of a few clients of a credit card company."
   ]
  },
  {
   "cell_type": "code",
   "execution_count": null,
   "metadata": {},
   "outputs": [],
   "source": [
    "import pandas as pd\n",
    "\n",
    "transaction_df = pd.read_csv(\"../../../data/Outlier_Analysis_dataset.csv\")\n",
    "transaction_df.head()"
   ]
  },
  {
   "cell_type": "markdown",
   "metadata": {},
   "source": [
    "As we can see, the above dataset has following features -\n",
    "* Transaction_id - Unique ID for each transaction\n",
    "* Account_id - ID unique to each account/credit card\n",
    "* Date - Timestamp associated with the transaction\n",
    "* Amount - Value of the transaction in US Dollars\n",
    "\n",
    "The Enterprise identifies any high valued transactions (outliers - mild or extreme), happening in quick succession, i.e. within a span of 2 hours as potential fraud. Essentially they are looking for collective outliers happening within a span of 2 hours.\n",
    "\n",
    "There are two parts to this assignment -\n",
    "* Basic Outlier Analysis (mandatory)\n",
    "* Outlier Analysis using KNN from PyOD module (Bonus)\n",
    "\n",
    "### Basic Outlier Analysis\n",
    "\n",
    "Analyze the loaded data to answer the below questions\n",
    "\n",
    "1. How client accounts is the data set pertaining to?\n",
    "2. Construct a box plot of transaction amounts, to study the outliers in transactions for each account.\n",
    "3. From above plot, identify if there are any mild or extreme outliers. Note and Report.\n",
    "4. Identify if there is potential fraud in each of the accounts. For this you would have to isolate transactions of each account, sort them according to time stamp, identify outliers as compared to rest of data and see which are collecting outliers happening within 2 hours.\n",
    "5. There is an easy way of doing the above exercise using a single step, instead of selecting the data frame and sorting it and so on. Can you identify what would be the simplest and easiest to identify potential frauds.\n",
    "6. Based on the analysis, write a few lines/comments about the client behavior (purchasing patterns, what you would consider fraud etc.) of each account in the above data set.\n",
    "\n",
    "### Outlier Analysis using KNN from PyOD module\n",
    "\n",
    "* Use the PyOD module and KNN clustering function to create clusters among the given transaction data.\n",
    "* What outliers are identified for each account?\n",
    "* Comment on what you would consider potential fraud. Are these similar to results of basic outlier analysis? Do you see any advantages of using this approach ove the basic analysis approach?"
   ]
  }
 ],
 "metadata": {
  "kernelspec": {
   "display_name": "Python 3",
   "language": "python",
   "name": "python3"
  },
  "language_info": {
   "codemirror_mode": {
    "name": "ipython",
    "version": 3
   },
   "file_extension": ".py",
   "mimetype": "text/x-python",
   "name": "python",
   "nbconvert_exporter": "python",
   "pygments_lexer": "ipython3",
   "version": "3.7.3"
  }
 },
 "nbformat": 4,
 "nbformat_minor": 2
}
