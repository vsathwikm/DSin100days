{
 "cells": [
  {
   "cell_type": "markdown",
   "metadata": {},
   "source": [
    "# Lab - Probability\n",
    "\n",
    "Write down the probability mass functions for each of below given scenarios:\n",
    "\n",
    "1. Rolling a fair die to get a number among the six numbers {1,2,3,4,5,6}\n",
    "2. Rolling an unfair die to get a number among the six numbers {1,2,3,4,5,6}. Note that due to uneven weight distribution, the faces of the die having 3 and 5, each have a 50% higher chance of showing up as compared to other numbers which have equal probability\n",
    "3. Tossing a fair coin to get a Heads or Tail\n",
    "4. Tossing an unfair coin to get a Heads or a Tail. There is a 63% higher chance of a Heads showing up\n",
    "5. Weight of nails (in grams, accuracy up to 3 decimal places) produced by an automated machinery. The machinery has a tolerance of up to $\\pm\\ 225\\ mg$"
   ]
  }
 ],
 "metadata": {
  "kernelspec": {
   "display_name": "Python 3",
   "language": "python",
   "name": "python3"
  },
  "language_info": {
   "codemirror_mode": {
    "name": "ipython",
    "version": 3
   },
   "file_extension": ".py",
   "mimetype": "text/x-python",
   "name": "python",
   "nbconvert_exporter": "python",
   "pygments_lexer": "ipython3",
   "version": "3.7.3"
  }
 },
 "nbformat": 4,
 "nbformat_minor": 2
}
