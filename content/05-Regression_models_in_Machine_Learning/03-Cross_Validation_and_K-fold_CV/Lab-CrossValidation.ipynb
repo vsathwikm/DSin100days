{
 "cells": [
  {
   "cell_type": "markdown",
   "metadata": {},
   "source": [
    "## Lab  - Linear regression\n",
    "\n",
    "In this lab, you need to work with Students data and grades as labels for Portugese students.\n",
    "Your task is to use KFold Cross Validation and fit a Linear model to predict the grades (G3) based on suitable input variables.\n",
    "\n",
    "Your task involves using CrossValidation using KFold from sklearn library. Use n_splits as 5 and assign the object to variable <b>kfold_cv</b>\n",
    "\n",
    "Data is availabe in : https://raw.githubusercontent.com/colaberry/DSin100days/master/data/student-por.csv\n",
    "\n",
    "Description is available here : https://archive.ics.uci.edu/ml/datasets/Student+Performance#"
   ]
  },
  {
   "cell_type": "code",
   "execution_count": 4,
   "metadata": {},
   "outputs": [
    {
     "data": {
      "text/plain": [
       "(649, 33)"
      ]
     },
     "execution_count": 4,
     "metadata": {},
     "output_type": "execute_result"
    }
   ],
   "source": [
    "# Import the library\n",
    "import pandas as pd\n",
    "\n",
    "students_por_url = \"https://raw.githubusercontent.com/colaberry/DSin100days/master/data/student-por.csv\"\n",
    "students = pd.read_csv(students_por_url,sep=';')\n",
    "students.head()\n",
    "students.shape\n",
    "#Write your code here or in other code cells down"
   ]
  }
 ],
 "metadata": {
  "kernelspec": {
   "display_name": "Python 3",
   "language": "python",
   "name": "python3"
  },
  "language_info": {
   "codemirror_mode": {
    "name": "ipython",
    "version": 3
   },
   "file_extension": ".py",
   "mimetype": "text/x-python",
   "name": "python",
   "nbconvert_exporter": "python",
   "pygments_lexer": "ipython3",
   "version": "3.6.8"
  }
 },
 "nbformat": 4,
 "nbformat_minor": 2
}
