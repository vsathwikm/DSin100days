{
 "cells": [
  {
   "cell_type": "markdown",
   "metadata": {},
   "source": [
    "# Approach to Data Science\n",
    "\n",
    "Below is a snapshot of a data set. Without performing any real analysis and without writing any code, can you outline the various steps you would perform to execute data science operations on the given data set?\n",
    "\n",
    "<img src=\"../../../images/data_snap.PNG\" style=\"width:45vw\">\n",
    "\n",
    "Refer to the steps taught in class on how to do data sciences."
   ]
  },
  {
   "cell_type": "markdown",
   "metadata": {},
   "source": [
    "## Start writing here\n",
    "..."
   ]
  }
 ],
 "metadata": {
  "kernelspec": {
   "display_name": "Python 3",
   "language": "python",
   "name": "python3"
  },
  "language_info": {
   "codemirror_mode": {
    "name": "ipython",
    "version": 3
   },
   "file_extension": ".py",
   "mimetype": "text/x-python",
   "name": "python",
   "nbconvert_exporter": "python",
   "pygments_lexer": "ipython3",
   "version": "3.6.5"
  }
 },
 "nbformat": 4,
 "nbformat_minor": 2
}
