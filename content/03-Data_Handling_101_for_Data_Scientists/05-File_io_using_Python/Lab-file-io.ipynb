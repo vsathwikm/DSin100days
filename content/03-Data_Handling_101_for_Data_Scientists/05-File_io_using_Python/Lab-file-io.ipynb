{
 "cells": [
  {
   "cell_type": "markdown",
   "metadata": {},
   "source": [
    "# Lab - File IO\n",
    "\n",
    "In this lab, you are required to read a json file and convert the contents of the file to csv format.\n",
    "\n",
    "Follow these instructions: \n",
    "\n",
    "1. Read the file from the URL \"../../../data/sample-data.json\"\n",
    "2. The JSON is a list of documents, with each document representing a row in the CSV\n",
    "3. Each element within each document must correspond to a column.\n",
    "4. First row in the CSV must contain the headers. \n",
    "5. Output must be saved as sample-output.csv\n",
    "\n",
    "Ref: Sample data is a dataset about English Monarchs taken from https://mysafeinfo.com, a repository for many datasets."
   ]
  },
  {
   "cell_type": "code",
   "execution_count": 2,
   "metadata": {},
   "outputs": [],
   "source": [
    "# Write your code below:"
   ]
  }
 ],
 "metadata": {
  "kernelspec": {
   "display_name": "Python 3",
   "language": "python",
   "name": "python3"
  },
  "language_info": {
   "codemirror_mode": {
    "name": "ipython",
    "version": 3
   },
   "file_extension": ".py",
   "mimetype": "text/x-python",
   "name": "python",
   "nbconvert_exporter": "python",
   "pygments_lexer": "ipython3",
   "version": "3.6.5"
  }
 },
 "nbformat": 4,
 "nbformat_minor": 2
}
