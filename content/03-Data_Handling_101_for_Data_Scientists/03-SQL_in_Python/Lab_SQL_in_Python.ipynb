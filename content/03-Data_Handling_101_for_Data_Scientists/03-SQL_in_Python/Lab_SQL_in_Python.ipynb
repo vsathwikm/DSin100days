{
 "cells": [
  {
   "cell_type": "markdown",
   "metadata": {},
   "source": [
    "## The Movies Database\n",
    "\n",
    "Given is the diagram of movies database consisting of 3 tables - Movies, Halls and Tickets\n",
    "\n",
    "* Movie: This table has 4 columns - Movie_id (unique identifier for each Movie specific to language), Movie_name (Name of the movie), Language (Language of the Movie), Rating (Average rating given by viewers)\n",
    "* Hall: This table has 3 columns - Hall_id (unique identifer for each Movie Hall), Hall_name (Name of the hall), Seating_capacity (maximum ticketed seats available in the hall)\n",
    "* Ticket: This table has 3 columns - Movie_id (unique identifier for each Movie specific to language), Hall_id (unique identifer for each Movie Hall), Tickets_sold (number of tickets sold for the given Movie at the given Hall)\n",
    "\n",
    "<img src=\"../../../images/movies_db.PNG\" style=\"width:65vw\"> <br>\n",
    "\n",
    "<b>Tasks:</b>\n",
    "1. Create an empty database named 'moviesdb' using connect method.\n",
    "2. Create empty tables with connected relationships among the three tables as shown in above diagram. Using foreign key constraints and enforce referential integrity.\n",
    "3. Extract the data from the three tables, links of which are provided in the code block. Load them into a dataframe and then into the table.\n",
    "4. Write a query to extract data of which movie ran at over 80% of seating capacity and at which hall this was achieved. The query should extract all combinations of movie and hall with over 80% capacity."
   ]
  },
  {
   "cell_type": "code",
   "execution_count": null,
   "metadata": {
    "collapsed": true
   },
   "outputs": [],
   "source": [
    "movies_data_link = \"../../../data/movie.csv\"\n",
    "halls_data_link = \"../../../data/hall.csv\"\n",
    "tickets_data_link = \"../../../data/ticket.csv\""
   ]
  }
 ],
 "metadata": {
  "kernelspec": {
   "display_name": "Python 3",
   "language": "python",
   "name": "python3"
  },
  "language_info": {
   "codemirror_mode": {
    "name": "ipython",
    "version": 3
   },
   "file_extension": ".py",
   "mimetype": "text/x-python",
   "name": "python",
   "nbconvert_exporter": "python",
   "pygments_lexer": "ipython3",
   "version": "3.6.5"
  }
 },
 "nbformat": 4,
 "nbformat_minor": 2
}
