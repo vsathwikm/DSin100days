{
 "cells": [
  {
   "cell_type": "markdown",
   "metadata": {},
   "source": [
    "## 02-Lab - Agglomerative Clustering\n",
    "\n",
    "This is the dataset of wheat seeds for various varieties.\n",
    "The dataset contains 209 randomly selected instances of wheat seed information.\n",
    "\n",
    "Here is the descrition of the fields.\n",
    "\n",
    "1. area A, \n",
    "2. perimeter P, \n",
    "3. compactness $C = 4*pi*A/P^2$, \n",
    "4. length of kernel, \n",
    "5. width of kernel, \n",
    "6. asymmetry coefficient \n",
    "7. length of kernel groove. \n",
    "All of these parameters were real-valued continuous.\n",
    "\n",
    "You are required to prepare the data, use sklearn's Agglomerative clustering to group them according to the variety, find appropriate number of clusters and finally add labels to the data.\n",
    "\n"
   ]
  },
  {
   "cell_type": "code",
   "execution_count": 2,
   "metadata": {},
   "outputs": [
    {
     "name": "stdout",
     "output_type": "stream",
     "text": [
      "<class 'pandas.core.frame.DataFrame'>\n",
      "Int64Index: 209 entries, 0 to 208\n",
      "Data columns (total 8 columns):\n",
      "15.26    209 non-null float64\n",
      "14.84    209 non-null float64\n",
      "0.871    209 non-null float64\n",
      "5.763    209 non-null float64\n",
      "3.312    209 non-null float64\n",
      "2.221    209 non-null float64\n",
      "5.22     209 non-null float64\n",
      "1        209 non-null int64\n",
      "dtypes: float64(7), int64(1)\n",
      "memory usage: 14.7 KB\n"
     ]
    },
    {
     "data": {
      "text/plain": [
       "(209, 8)"
      ]
     },
     "execution_count": 2,
     "metadata": {},
     "output_type": "execute_result"
    }
   ],
   "source": [
    "# Use Agglomerative clustering\n",
    "\n",
    "import pandas as pd\n",
    "\n",
    "seeds = pd.read_csv('https://raw.githubusercontent.com/colaberry/DSin100days/master/data/seeds_dataset.csv').dropna()\n",
    "seeds.info()\n",
    "seeds.shape\n"
   ]
  }
 ],
 "metadata": {
  "kernelspec": {
   "display_name": "Python 3",
   "language": "python",
   "name": "python3"
  },
  "language_info": {
   "codemirror_mode": {
    "name": "ipython",
    "version": 3
   },
   "file_extension": ".py",
   "mimetype": "text/x-python",
   "name": "python",
   "nbconvert_exporter": "python",
   "pygments_lexer": "ipython3",
   "version": "3.6.5"
  }
 },
 "nbformat": 4,
 "nbformat_minor": 2
}
