{
 "cells": [
  {
   "cell_type": "markdown",
   "metadata": {
    "ExecuteTime": {
     "end_time": "2019-06-10T04:17:25.909421Z",
     "start_time": "2019-06-10T04:17:25.889505Z"
    }
   },
   "source": [
    "# Singular Value Decomposition\n",
    "\n",
    "In this notebook, we are going to cover the basics of Singular value decomposition(SVD). \n",
    "\n",
    "The goal of this notebook is not to get into the mathematical details of SVD, but to provide a more practical introduction to the topic. \n",
    "\n",
    "\n",
    "\n",
    "In some of the previous sections you would have read about eigenvalue and eigenfunction decomposition. Eigenvalues can be achieved for square matrics, but when you dont have square matrices then we have to take a different approach. SVD, like eigen-decomposition, is a tool that can be used to reduce the dimensionality of the data. \n",
    "\n",
    "In eigen-decomposition, we can break down the problem to finding eignvectors that represent the direction of the new feature spaces. In SVD we can decompose the data into three matrices rather than eigenvector. \n",
    "\n",
    "\n",
    "\n",
    "We can write this down as - \n",
    "\n",
    "\\begin{equation}\n",
    "\\text{A} = \\text{U}\\text{D}\\text{V}^{\\text{T}} \n",
    "\\end{equation}\n",
    "\n",
    "where  <br>\n",
    "$\\text{A} $ - $m \\times n  $  matrix to be decomposed  <br>\n",
    "$\\text{U} $ - $m \\times m $ left singular vectors <br>\n",
    "$\\text{D} $ - $m \\times n  $ diagonal martix with singular values <br>\n",
    "$\\text{V}^{\\text{T}}  $-  $n \\times n  $ right singular vectors <br>\n",
    "\n",
    "keep in mind that both $\\text{U} $ and $ \\text{V}^{\\text{T}} $ are orthogonal matrices. \n",
    "\n",
    "Now we can do this decomposition by hand given some matrix $\\text{A} $, however having python, that is not needed. We can use numpy to the decomposition. Lets look an the example below.\n",
    "\n",
    "In python we can use numpy's linalg.svd function to do the above.\n",
    "\n",
    "```python\n",
    "import numpy as np\n",
    "A  = np.matrix([[1, 2, 3], [4, 5, 6]])\n",
    "U,D,VT = np.linalg.svd(A)\n",
    "```\n",
    "\n",
    "## Exercise\n",
    "\n",
    "Let us create a sample matrix of dimension 2*3 (2 rows by 3 columns). Then decompose the matrix using svd."
   ]
  },
  {
   "cell_type": "code",
   "execution_count": 3,
   "metadata": {
    "ExecuteTime": {
     "end_time": "2019-06-10T18:03:26.717001Z",
     "start_time": "2019-06-10T18:03:26.521502Z"
    }
   },
   "outputs": [
    {
     "name": "stdout",
     "output_type": "stream",
     "text": [
      "U : [[-0.03200202  0.9994878 ]\n",
      " [ 0.9994878   0.03200202]] \n",
      "\n",
      " D : [20.33027752 10.03393321] \n",
      " \n",
      " VT : [[-0.98639874  0.08415809  0.14119115]\n",
      " [ 0.13543394  0.90287568  0.40801122]\n",
      " [ 0.09314061 -0.42158382  0.9019933 ]]\n"
     ]
    }
   ],
   "source": [
    "import numpy as np\n",
    "A  = np.matrix([[2, 9, 4], [-20, 2, 3]])\n",
    "U,D,VT = np.linalg.svd(A)\n",
    "print(\"U : {} \\n\\n D : {} \\n \\n VT : {}\" .format(U, D, VT))"
   ]
  },
  {
   "cell_type": "markdown",
   "metadata": {
    "hide_input": true
   },
   "source": [
    "### Solution\n",
    "\n",
    "Hit run on the above code"
   ]
  },
  {
   "cell_type": "markdown",
   "metadata": {
    "ExecuteTime": {
     "end_time": "2019-06-10T04:30:05.065791Z",
     "start_time": "2019-06-10T04:30:05.059774Z"
    }
   },
   "source": [
    "\n",
    "<br>\n",
    "<br>\n",
    "In the above example we have a $2 \\times 3$ matrix that is being decomposed into three matrices where \n",
    "\n",
    "$\\text{U} : 2 \\times 2 $, \n",
    "\n",
    "$\\text{D} : 2 \\times 1 $ and \n",
    "\n",
    "$\\text{V}^\\text{T}  : 3 \\times 3 $ \n",
    "\n",
    "which agrees with what we defined in equation 1. \n",
    "\n",
    "## SVD in Machine Learning\n",
    "\n",
    "How can we use SVD in machine learning. Well turns out that SVD is rather similar to PCA. Both can be used to do feature extraction and dimensionality reduction as well. So below we will use the built-in SVD solver in sklearn to test out how we can perform SVD in python. There are few things to note about the sklearn's SVD solver. \n",
    "\n",
    "### Sklearn's SVD\n",
    "\n",
    "You can import the TruncatedSVD module from sklearn.decomposition.\n",
    "\n",
    "```python\n",
    "from sklearn.decomposition import TruncatedSVD\n",
    "```\n",
    "\n",
    "Couple of things to keep in mind before using SVD.\n",
    "\n",
    "- Typically for SVD you need to center your data before you calculate your $ \\text{U}, \\text{D}$ and $\\text{V}^{\\text{T}}$ matrices. What this means is that you should take the mean of each column and subtract it from each of the points. This will ensure that the mean of the points is centered at 0. You will need to do this for all columns in the dataset. For the Sklearn SVD solver however, this is not needed since it uses a different algorithm to run this calculation. But you must always remember that if you are doing SVD by writing you own version, you must center the data   \n",
    "\n",
    "- Secondly, in the sklearn method that we are using, we need to specify the number of iterations to get to the SVD values. This is needed because it uses a different algorithm to get to SVD rather than the standard method of calculation. We are not going to get into the details of optimizing the iterations. More or less it is useful to stick to the default value. \n",
    "\n",
    "The next step is to instantiate the TruncatedSVD, and then use .fit method with the data.\n",
    "\n",
    "```python\n",
    "svd = TruncatedSVD(n_components=1, n_iter=10, random_state=10)\n",
    "svd.fit(A)  \n",
    "```\n",
    "\n",
    "## Exercise\n",
    "\n",
    "Let us run the sklearn's TruncatedSVD on the iris dataset.\n",
    "Use 2 output components and 7 iterations."
   ]
  },
  {
   "cell_type": "code",
   "execution_count": 5,
   "metadata": {
    "ExecuteTime": {
     "end_time": "2019-06-10T18:16:54.374189Z",
     "start_time": "2019-06-10T18:16:49.721983Z"
    }
   },
   "outputs": [],
   "source": [
    "from sklearn.decomposition import TruncatedSVD\n",
    "from sklearn.datasets import load_iris\n",
    "import  matplotlib.pyplot as plt\n",
    "\n",
    "iris = load_iris()\n"
   ]
  },
  {
   "cell_type": "markdown",
   "metadata": {
    "hide_input": true
   },
   "source": [
    "### Solution\n",
    "\n",
    "```python\n",
    "svd = TruncatedSVD(n_components=2, n_iter=7, random_state=42)\n",
    "svd.fit(iris.data)  \n",
    "print(svd.singular_values_)  \n",
    "```"
   ]
  },
  {
   "attachments": {},
   "cell_type": "markdown",
   "metadata": {},
   "source": [
    "## Getting the U matrix\n",
    "\n",
    "We ran fit transform on the data to get the matrix $ \\text{U} $ which contains the reduced dimensions. We can actually plot $\\text{U} $ and see well dimensionality reduction works in this case. \n",
    "\n",
    "```python\n",
    "U = svd.fit_transform(A)\n",
    "D = svd.singular_values_\n",
    "VT = svd.components_\n",
    "\n",
    "```\n",
    "\n",
    "\n",
    "In the plot below, the red points are the first class- setosa, the green belongs to the second class versicolor and the blue to virginica.\n",
    "\n",
    "\n",
    "```python\n",
    "x1 = U[:,0]\n",
    "x2 = U[:,1]\n",
    "cdict = {iris.target_names[0]:\"red\", iris.target_names[1]:\"green\", iris.target_names[2]:\"blue\"}\n",
    "\n",
    "plt.figure()\n",
    "for i in range(0,x1.shape[0]):\n",
    "    \n",
    "    color_indx = iris.target_names[iris.target[i]]\n",
    "    plt.scatter(x1[i].T,x2[i], c = cdict[color_indx])\n",
    "\n",
    "plt.show()\n",
    "\n",
    "```\n",
    "\n",
    "<img src=\"../../../images/svd.png\">\n",
    "\n",
    "\n",
    "Hence you can see a simple implementation of how we can use svd to do dimensionality reduction. \n",
    "\n",
    "### Exercise\n",
    "\n",
    "In the below code do fit_transform on iris.data to do Dimensionality Reducion using svd and plot the new data."
   ]
  },
  {
   "cell_type": "code",
   "execution_count": 6,
   "metadata": {
    "ExecuteTime": {
     "end_time": "2019-06-10T21:44:32.006761Z",
     "start_time": "2019-06-10T21:44:31.991354Z"
    }
   },
   "outputs": [],
   "source": [
    "# Write your code below:\n"
   ]
  },
  {
   "cell_type": "markdown",
   "metadata": {
    "hide_input": true
   },
   "source": [
    "### Solution\n",
    "\n",
    "```python\n",
    "U = svd.fit_transform(iris.data)\n",
    "D = svd.singular_values_\n",
    "VT = svd.components_\n",
    "iris.target_names\n",
    "\n",
    "x1 = U[:,0]\n",
    "x2 = U[:,1]\n",
    "cdict = {iris.target_names[0]:\"red\", iris.target_names[1]:\"green\", iris.target_names[2]:\"blue\"}\n",
    "\n",
    "plt.figure()\n",
    "for i in range(0,x1.shape[0]):\n",
    "    \n",
    "    color_indx = iris.target_names[iris.target[i]]\n",
    "    plt.scatter(x1[i].T,x2[i], c = cdict[color_indx])\n",
    "\n",
    "plt.show()\n",
    "\n",
    "```"
   ]
  },
  {
   "cell_type": "markdown",
   "metadata": {},
   "source": [
    "# Manual Computation of SVD \n",
    "\n",
    "A worth worthwhile exercise would be to see if you can repeat this with the numpy svd function - np.linalg.svd and see what type of results you get. "
   ]
  },
  {
   "cell_type": "code",
   "execution_count": 20,
   "metadata": {
    "ExecuteTime": {
     "end_time": "2019-06-10T18:03:53.423185Z",
     "start_time": "2019-06-10T18:03:53.417729Z"
    }
   },
   "outputs": [
    {
     "name": "stdout",
     "output_type": "stream",
     "text": [
      "[[ 6.16171172e-02  1.29969428e-01]\n",
      " [ 5.80722977e-02  1.11371452e-01]\n",
      " [ 5.67633852e-02  1.18294769e-01]\n",
      " [ 5.66543140e-02  1.05607729e-01]\n",
      " [ 6.12300644e-02  1.31431142e-01]\n",
      " [ 6.75033389e-02  1.31215489e-01]\n",
      " [ 5.74819200e-02  1.16885813e-01]\n",
      " [ 6.09732389e-02  1.21282279e-01]\n",
      " [ 5.37621363e-02  1.00233102e-01]\n",
      " [ 5.88279568e-02  1.12391313e-01]\n",
      " [ 6.52921638e-02  1.36956828e-01]\n",
      " [ 5.99423079e-02  1.14056843e-01]\n",
      " [ 5.71144645e-02  1.11703944e-01]\n",
      " [ 5.15956982e-02  1.15639752e-01]\n",
      " [ 6.80066676e-02  1.64631050e-01]\n",
      " [ 7.07614133e-02  1.59426020e-01]\n",
      " [ 6.53641107e-02  1.47215052e-01]\n",
      " [ 6.17920814e-02  1.28024163e-01]\n",
      " [ 6.92811655e-02  1.34924586e-01]\n",
      " [ 6.35143373e-02  1.33247731e-01]\n",
      " [ 6.51743291e-02  1.19733588e-01]\n",
      " [ 6.32934852e-02  1.28227980e-01]\n",
      " [ 5.59593601e-02  1.40979613e-01]\n",
      " [ 6.29547984e-02  1.05984988e-01]\n",
      " [ 6.15467291e-02  1.02057171e-01]\n",
      " [ 5.99247808e-02  1.04984443e-01]\n",
      " [ 6.18579744e-02  1.13391858e-01]\n",
      " [ 6.29347932e-02  1.27582310e-01]\n",
      " [ 6.20041699e-02  1.28507715e-01]\n",
      " [ 5.83678063e-02  1.06295097e-01]\n",
      " [ 5.87548591e-02  1.04833384e-01]\n",
      " [ 6.44546434e-02  1.23842839e-01]\n",
      " [ 6.51347267e-02  1.47974493e-01]\n",
      " [ 6.75193072e-02  1.57941923e-01]\n",
      " [ 5.88279568e-02  1.12391313e-01]\n",
      " [ 5.85771852e-02  1.27132978e-01]\n",
      " [ 6.42137862e-02  1.40420410e-01]\n",
      " [ 5.88279568e-02  1.12391313e-01]\n",
      " [ 5.36231455e-02  1.07307479e-01]\n",
      " [ 6.17561079e-02  1.22895051e-01]\n",
      " [ 6.04744053e-02  1.30411281e-01]\n",
      " [ 5.18102648e-02  8.54535827e-02]\n",
      " [ 5.44147781e-02  1.13456451e-01]\n",
      " [ 6.26037191e-02  1.12575813e-01]\n",
      " [ 6.58285297e-02  1.15302903e-01]\n",
      " [ 5.74643929e-02  1.07813414e-01]\n",
      " [ 6.38741801e-02  1.31193106e-01]\n",
      " [ 5.65153232e-02  1.12682106e-01]\n",
      " [ 6.45092948e-02  1.35344056e-01]\n",
      " [ 6.00426156e-02  1.22207683e-01]\n",
      " [ 9.50523831e-02 -3.95092122e-03]\n",
      " [ 8.94605191e-02 -7.57304166e-03]\n",
      " [ 9.51182761e-02 -1.85832266e-02]\n",
      " [ 7.58283876e-02 -2.58683888e-02]\n",
      " [ 8.91949300e-02 -2.22581044e-02]\n",
      " [ 8.20472424e-02 -2.72698653e-02]\n",
      " [ 9.03180447e-02 -1.60563746e-02]\n",
      " [ 6.72584478e-02  1.36449099e-03]\n",
      " [ 9.00236869e-02 -1.36803150e-02]\n",
      " [ 7.47032029e-02 -1.63541367e-02]\n",
      " [ 6.75276657e-02 -1.73204624e-02]\n",
      " [ 8.31501202e-02 -9.78620596e-03]\n",
      " [ 7.88220238e-02 -1.50432156e-02]\n",
      " [ 8.68191130e-02 -2.76893345e-02]\n",
      " [ 7.68469261e-02  1.01908637e-02]\n",
      " [ 9.07035386e-02  1.35946187e-04]\n",
      " [ 8.24059343e-02 -2.66241960e-02]\n",
      " [ 7.97701742e-02 -6.89622061e-03]\n",
      " [ 8.39366182e-02 -4.15434493e-02]\n",
      " [ 7.65181537e-02 -1.02162225e-02]\n",
      " [ 8.76754878e-02 -3.34723729e-02]\n",
      " [ 8.25046832e-02 -8.19321226e-04]\n",
      " [ 8.80461643e-02 -4.67067804e-02]\n",
      " [ 8.60733683e-02 -2.68732903e-02]\n",
      " [ 8.68535277e-02 -4.90618863e-03]\n",
      " [ 8.95248533e-02 -4.55131277e-03]\n",
      " [ 9.24381870e-02 -2.34743022e-02]\n",
      " [ 9.40414573e-02 -3.27736794e-02]\n",
      " [ 8.51415941e-02 -2.32475913e-02]\n",
      " [ 7.53826466e-02  1.24158641e-02]\n",
      " [ 7.48046614e-02 -1.09035909e-02]\n",
      " [ 7.40948901e-02 -4.95843502e-03]\n",
      " [ 7.90504885e-02 -2.78696983e-03]\n",
      " [ 8.77337681e-02 -5.53411726e-02]\n",
      " [ 8.08401963e-02 -2.98497415e-02]\n",
      " [ 8.72956398e-02 -9.82042542e-03]\n",
      " [ 9.24829240e-02 -1.38089909e-02]\n",
      " [ 8.42305680e-02 -2.89657693e-02]\n",
      " [ 7.99167777e-02 -6.73410312e-03]\n",
      " [ 7.66200202e-02 -1.97194163e-02]\n",
      " [ 7.89801005e-02 -3.06992273e-02]\n",
      " [ 8.66801223e-02 -2.06149577e-02]\n",
      " [ 7.91894793e-02 -9.86134666e-03]\n",
      " [ 6.76455005e-02 -9.72224869e-05]\n",
      " [ 7.92641359e-02 -1.99574524e-02]\n",
      " [ 8.10594895e-02 -7.17595577e-03]\n",
      " [ 8.08386375e-02 -1.21957072e-02]\n",
      " [ 8.52877896e-02 -8.13173411e-03]\n",
      " [ 6.77905451e-02  1.77189293e-02]\n",
      " [ 7.99080141e-02 -1.12703028e-02]\n",
      " [ 9.88452143e-02 -8.55623396e-02]\n",
      " [ 8.66929227e-02 -6.44025138e-02]\n",
      " [ 1.02686054e-01 -7.01026648e-02]\n",
      " [ 9.38979714e-02 -6.82438655e-02]\n",
      " [ 9.76289968e-02 -7.77246759e-02]\n",
      " [ 1.10344048e-01 -9.00380354e-02]\n",
      " [ 7.52966982e-02 -5.71765667e-02]\n",
      " [ 1.05470311e-01 -8.01153724e-02]\n",
      " [ 9.65157965e-02 -8.20905006e-02]\n",
      " [ 1.07613291e-01 -6.58238169e-02]\n",
      " [ 9.43270515e-02 -3.96859387e-02]\n",
      " [ 9.24597510e-02 -6.27256585e-02]\n",
      " [ 9.81982184e-02 -5.89414206e-02]\n",
      " [ 8.47585783e-02 -7.01096335e-02]\n",
      " [ 8.79635601e-02 -7.10543537e-02]\n",
      " [ 9.51386893e-02 -5.51342884e-02]\n",
      " [ 9.53247187e-02 -5.79439432e-02]\n",
      " [ 1.15003219e-01 -6.97745288e-02]\n",
      " [ 1.11498002e-01 -1.16613410e-01]\n",
      " [ 8.50449154e-02 -6.47684479e-02]\n",
      " [ 1.01192263e-01 -6.30699871e-02]\n",
      " [ 8.46283511e-02 -5.84990570e-02]\n",
      " [ 1.10695127e-01 -9.66288605e-02]\n",
      " [ 8.93626895e-02 -4.63936036e-02]\n",
      " [ 9.96724124e-02 -5.93305159e-02]\n",
      " [ 1.04270470e-01 -6.05050146e-02]\n",
      " [ 8.84408297e-02 -4.09319995e-02]\n",
      " [ 8.89844003e-02 -4.03956904e-02]\n",
      " [ 9.48099168e-02 -7.55413746e-02]\n",
      " [ 1.02059295e-01 -5.47636754e-02]\n",
      " [ 1.04962714e-01 -7.55225698e-02]\n",
      " [ 1.14614607e-01 -5.06587810e-02]\n",
      " [ 9.49848811e-02 -7.74866398e-02]\n",
      " [ 9.03032272e-02 -4.54831029e-02]\n",
      " [ 9.04449277e-02 -7.29118087e-02]\n",
      " [ 1.08802810e-01 -7.23163401e-02]\n",
      " [ 9.69268382e-02 -6.45430257e-02]\n",
      " [ 9.49376660e-02 -5.64822297e-02]\n",
      " [ 8.76667242e-02 -3.80085726e-02]\n",
      " [ 9.88420967e-02 -5.02542710e-02]\n",
      " [ 9.88708654e-02 -6.73153934e-02]\n",
      " [ 9.75876040e-02 -4.21451296e-02]\n",
      " [ 8.66929227e-02 -6.44025138e-02]\n",
      " [ 1.01479008e-01 -7.26825411e-02]\n",
      " [ 1.00372269e-01 -6.71115768e-02]\n",
      " [ 9.61608567e-02 -5.24450520e-02]\n",
      " [ 8.92808282e-02 -5.84877319e-02]\n",
      " [ 9.40702260e-02 -4.98348018e-02]\n",
      " [ 9.48993908e-02 -5.62107520e-02]\n",
      " [ 8.84882764e-02 -5.16210172e-02]] [95.95066751 17.72295328  3.46929666  1.87891236]\n",
      "[[ 0.75116805  0.37978837  0.51315094  0.16787934]\n",
      " [ 0.28583096  0.54488976 -0.70889874 -0.34475845]] [[-0.75116805 -0.37978837 -0.51315094 -0.16787934]\n",
      " [ 0.28583096  0.54488976 -0.70889874 -0.34475845]\n",
      " [ 0.49942378 -0.67502499 -0.05471983 -0.54029889]\n",
      " [ 0.32345496 -0.32124324 -0.48077482  0.74902286]] [[ 0.75116805  0.37978837  0.51315094  0.16787934]\n",
      " [ 0.28583096  0.54488976 -0.70889874 -0.34475845]]\n",
      "[95.95066751 17.72295328]\n"
     ]
    }
   ],
   "source": [
    "# svd using numpy \n",
    "Unp, Dnp, VTnp = np.linalg.svd(iris.data)\n",
    "# svd using randomised svd another method in sklearn. \n",
    "from sklearn.utils.extmath import randomized_svd\n",
    "Urs, Sigmars, VTrs = randomized_svd(iris.data, \n",
    "                              n_components=2,\n",
    "                              n_iter=7,\n",
    "                              random_state=None)\n",
    "print(Urs, Dnp)\n",
    "print(VT, VTnp, VTrs)\n",
    "print(Sigmars)"
   ]
  },
  {
   "cell_type": "markdown",
   "metadata": {
    "hide_input": true
   },
   "source": [
    "### Solution\n",
    "\n",
    "Hit run to execute code"
   ]
  },
  {
   "cell_type": "markdown",
   "metadata": {},
   "source": [
    "For Iris all three methods match. Something to keep in mind. \n"
   ]
  },
  {
   "cell_type": "code",
   "execution_count": 19,
   "metadata": {},
   "outputs": [],
   "source": [
    "#End of notebook"
   ]
  },
  {
   "cell_type": "markdown",
   "metadata": {
    "hide_input": true
   },
   "source": [
    "### Solution\n",
    "\n",
    "End of content"
   ]
  }
 ],
 "metadata": {
  "author": "me",
  "celltoolbar": "Edit Metadata",
  "kernelspec": {
   "display_name": "Python 3",
   "language": "python",
   "name": "python3"
  },
  "language_info": {
   "codemirror_mode": {
    "name": "ipython",
    "version": 3
   },
   "file_extension": ".py",
   "mimetype": "text/x-python",
   "name": "python",
   "nbconvert_exporter": "python",
   "pygments_lexer": "ipython3",
   "version": "3.6.5"
  },
  "latex_envs": {
   "LaTeX_envs_menu_present": true,
   "autoclose": true,
   "autocomplete": true,
   "bibliofile": "biblio.bib",
   "cite_by": "apalike",
   "current_citInitial": 1,
   "eqLabelWithNumbers": true,
   "eqNumInitial": 1,
   "hotkeys": {
    "equation": "Ctrl-E",
    "itemize": "Ctrl-I"
   },
   "labels_anchors": false,
   "latex_user_defs": false,
   "report_style_numbering": true,
   "user_envs_cfg": false
  },
  "toc": {
   "base_numbering": 1,
   "nav_menu": {},
   "number_sections": true,
   "sideBar": true,
   "skip_h1_title": false,
   "title_cell": "Table of Contents",
   "title_sidebar": "Contents",
   "toc_cell": false,
   "toc_position": {},
   "toc_section_display": true,
   "toc_window_display": false
  },
  "varInspector": {
   "cols": {
    "lenName": 16,
    "lenType": 16,
    "lenVar": 40
   },
   "kernels_config": {
    "python": {
     "delete_cmd_postfix": "",
     "delete_cmd_prefix": "del ",
     "library": "var_list.py",
     "varRefreshCmd": "print(var_dic_list())"
    },
    "r": {
     "delete_cmd_postfix": ") ",
     "delete_cmd_prefix": "rm(",
     "library": "var_list.r",
     "varRefreshCmd": "cat(var_dic_list()) "
    }
   },
   "types_to_exclude": [
    "module",
    "function",
    "builtin_function_or_method",
    "instance",
    "_Feature"
   ],
   "window_display": false
  }
 },
 "nbformat": 4,
 "nbformat_minor": 2
}
