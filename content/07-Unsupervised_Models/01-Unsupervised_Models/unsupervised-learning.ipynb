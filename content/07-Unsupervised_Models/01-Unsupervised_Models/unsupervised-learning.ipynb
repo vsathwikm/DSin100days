{
 "cells": [
  {
   "cell_type": "markdown",
   "metadata": {
    "tags": [
     "s1",
     "content",
     "l1"
    ]
   },
   "source": [
    "# Unsupervised Learning\n",
    "\n",
    "### Introduction to Unsupervised Learning\n",
    "\n",
    "We learnt about supervised learning and its methods. To recap, supervised learning involves training a machine learning model with data mapped to a target. The model learns the mapping and given a test data outside of the training data, it is able to make predictions. In the supervised learning setting, we typically\n",
    "have access to a set of p features $X_1$ , $X_2$  , . . . , $X_p$ , measured on n observations, and a response variable Y is measured on those same n observations. The goal is then to predict Y-hat using $X_1$ , $X_2$  , . . . , $X_p$  . We do this on test and train splits of data.\n",
    "\n",
    "Unsupervised learning necessitates no training data mapped to a target. Infact, there is no training involved. The algorithms are able to generate various insights into the data and hence called unsupervised learning. Unsupervised learning involves a set of statistical tools intended for the setting in which we have only a set of features X 1 , X 2 , . . . , X p measured on n observations. We are not interested in making a prediction, as we do not have a target variable Y in the dataset and there is no supervised training involved. Instead we intend to uncover interesting information about the data on hand, namely, the observations $X_1$ , $X_2$  , . . . , $X_p$\n",
    "\n",
    "\n",
    "\n",
    "\n",
    "### Some Unsupervised Methods\n",
    "\n",
    "<ol>\n",
    "    <li>Clustering</li>\n",
    "    <li>Principle Component Analysis(PCA)</li>\n",
    "    <li>Singular value Decomposition(SVD)</li>\n",
    "    <li>Anamoly Detection</li>\n",
    "    <li>Segmentation</li>\n",
    "\n",
    "        \n",
    "</ol>\n",
    "\n",
    "### Challenges of Unsupervised Learning\n",
    "\n",
    "Unsupervised learning is often much more challenging. The exercise tends to be more subjective, and there is no simple goal for the analysis, such as prediction of a response. Unsupervised learning is often performed as part of an exploratory data analysis. Furthermore, it can be hard to assess the results obtained from unsupervised learning methods, since there is no universally accepted mechanism for performing crossvalidation or validating results on an independent data set. In unsupervised learning, there is no way to check our work because we don’t know the true answer — the problem is unsupervised. \n",
    "\n",
    "\n",
    "## Clustering\n",
    "\n",
    "Finding groups based on a criterion in the dataset is called clustering. The criterion could be a spatial distribution involving distance between nearby points or could involve another metric such as density based on presence of neighbors. A basic clustering algorithm is called k-means clustering which is a spatial clustering algorithm. \n",
    "\n",
    "<ol>\n",
    "        <li type='a'>K-means Clustering</li>\n",
    "        <li type='a'>DBScan</li>\n",
    "        <li type='a'>Hierarchical Clustering</li>\n",
    "</ol>\n",
    "\n",
    "<img src='../../../images/k-means.png'/>\n",
    "\n",
    "An example : A cancer researcher might assay gene expression levels in 100 patients with breast cancer. He or she might then look for subgroups among the breast cancer samples, or among the genes, in order to obtain a better understanding of the disease.\n",
    "\n",
    "Ref: Introduction to Statistical Learning using R."
   ]
  },
  {
   "cell_type": "code",
   "execution_count": 1,
   "metadata": {
    "tags": [
     "s1",
     "ce",
     "l1"
    ]
   },
   "outputs": [],
   "source": [
    "#No  Exercise"
   ]
  },
  {
   "cell_type": "markdown",
   "metadata": {
    "hide_input": true
   },
   "source": [
    "### Solution\n",
    "\n",
    "Hit run to continue"
   ]
  },
  {
   "cell_type": "markdown",
   "metadata": {},
   "source": [
    "\n",
    "\n",
    "## Anamoly Detection\n",
    "\n",
    "Anamoly detection is another type of unsupervised learning. Anomaly detection is the technique of identification of events or observations which are most rare to occur in the normal day to activity. These could prove useful to prevent problems for systems and business such as a cyber attack, a bank fraud or a medical condition. They provide signals by being  significantly different from the majority of the data. This connection makes it very interesting to be able to pick out which data points can be considered anomalies, as identifying these events are typically very interesting from a business perspective. This can be dne by using clustering techniques.\n",
    "\n",
    "## Segmentation\n",
    "\n",
    "Another example application of clustering is customer segmentation.\n",
    "\n",
    "To understand this, let us take the example of a large retail chain. The entity may have access to details of a large number of customers, information such as median household income,occupation, distance from nearest urban area, and so forth  for a large number of customers. The goal is to perform market segmentation by identifying subgroups of people who might be more receptive to a particular form of advertising, or more likely to purchase a particular product. The task of performing market segmentation amounts to clustering the people in the\n",
    "data set.\n",
    "\n",
    "## Principle Components Analysis\n",
    "\n",
    "Principal components analysis is an technique used for data visualization or data pre-processing before supervised techniques are applied. When faced with a large set of correlated variables, principal components allow us to summarize this set with a smaller number of representative variables that collectively explain most of the variability in the original set. \n",
    "\n",
    "Principal component analysis (PCA) refers to the process by which principal components are computed, and the subsequent use of these components in understanding the data. PCA is an unsupervised approach, since it involves only a set of features $X_1$ , $X_2$  , . . . , $X_p$ , and no associated response Y . Apart from producing derived variables for use in supervised learning problems, PCA also serves as a tool for data visualization.\n",
    "\n",
    "\n",
    "## Single Value Decomposition\n",
    "\n",
    "Singular Value Decomposition(SVD) is one of the most widely used Unsupervised learning algorithms, that is at the center of many Dimensionality reduction problems. All matrices have an SVD, which makes it more stable than other methods, such as the eigendecomposition. As such, it is often used in a wide array of applications including compressing, denoising, and data reduction. The Singular-Value Decomposition is a matrix decomposition method for reducing a matrix to its constituent parts in order to make certain subsequent matrix calculations simpler. \n",
    "\n",
    "We will look at all of these in greater detail in subsequent sections.\n"
   ]
  },
  {
   "cell_type": "code",
   "execution_count": null,
   "metadata": {
    "tags": [
     "s1",
     "ce",
     "l1"
    ]
   },
   "outputs": [],
   "source": [
    "#No  Exercise"
   ]
  },
  {
   "cell_type": "markdown",
   "metadata": {
    "hide_input": true
   },
   "source": [
    "### Solution\n",
    "\n",
    "Hit run to continue"
   ]
  }
 ],
 "metadata": {
  "celltoolbar": "Edit Metadata",
  "executed_sections": [],
  "kernelspec": {
   "display_name": "Python 3",
   "language": "python",
   "name": "python3"
  },
  "language_info": {
   "codemirror_mode": {
    "name": "ipython",
    "version": 3
   },
   "file_extension": ".py",
   "mimetype": "text/x-python",
   "name": "python",
   "nbconvert_exporter": "python",
   "pygments_lexer": "ipython3",
   "version": "3.6.5"
  },
  "rf_version": 1
 },
 "nbformat": 4,
 "nbformat_minor": 2
}
