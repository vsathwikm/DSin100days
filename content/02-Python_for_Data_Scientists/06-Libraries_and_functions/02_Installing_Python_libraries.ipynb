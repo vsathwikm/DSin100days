{
 "cells": [
  {
   "cell_type": "markdown",
   "metadata": {},
   "source": [
    "# How to install Python libraries\n",
    "\n",
    "## PIP\n",
    "\n",
    "One of the key skills needed in using Python effectively is to know how to install new libraries. Anaconda distribution comes with a default set of libraries which come pre-installed in the Python environment. However, while designing various models in Data Science, more often than not we would require to use libraries which are uncommon or which do not come pre-installed with any Python installation (Anaconda, Standalone python or any other distribution).\n",
    "\n",
    "Python libraries and extensions can be installed into the python development environment through 'terminal' (the black command prompt screen). The command that is usually used to install libraries in python is the \"pip install\" command. PIP is a recurssive acronym and it stands for \"pip installs packages\". (Source: https://en.wikipedia.org/wiki/Pip_(package_manager))\n",
    "\n",
    "```python\n",
    ">>> pip install <library_name>\n",
    "```\n",
    "\n",
    "Let us say we want to install plotly - an interactive visualization library. As long as the developers of the library have indexed the library under PyPI (Python Package Index), it can be easily downloaded and installed using the 'pip install' command.\n",
    "\n",
    "Example:\n",
    "* Command:\n",
    "<img src=\"../../../images/pip1.PNG\" style=\"width:60vw\">\n",
    "<br>\n",
    "* Output:\n",
    "<img src=\"../../../images/pip2.PNG\" style=\"width:60vw\">\n",
    "\n",
    "<br>\n",
    "## Conda install\n",
    "\n",
    "In Anaconda distribution, there is a built-in library/application installer called 'conda'. Similar to pip, conda has an index of packages that are updated by developers of specific libraries. 'conda install' or 'conda install -c conda-forge libraryname' are the commands that can be used to look up Anaconda's library index and install specified python libraries.\n",
    "\n",
    "```python\n",
    ">>> conda install beautifulsoup4\n",
    "\n",
    "or\n",
    "\n",
    ">>> conda install -c conda-forge dash\n",
    "```\n",
    "\n",
    "* conda install\n",
    "<img src=\"../../../images/conda1.PNG\" style=\"width:60vw\">\n",
    "<br>\n",
    "* conda forge install\n",
    "<img src=\"../../../images/conda2.PNG\" style=\"width:60vw\">\n",
    "\n",
    "<br>\n",
    "## SUDO - For Unix based operating systems\n",
    "\n",
    "Sometimes the libraries and functions within a package refer functions within another package, i.e. in order to successfully execute a function of package A, the installation and presence of a specific function from package B is essential. This is often referred to as a 'dependency'. A 'wheel' file is something which facilitates the installation of a python library and all its associated dependencies - like a wheel with all spokes. PIP may sometimes fail to build a wheel as it may not have permissions to install all associated dependencies (some of them are operating system related). It would require 'root' user permissions.\n",
    "\n",
    "The 'sudo get-apt install' command helps install the python library and any associated dependencies without any issue. SUDO stands for \"Super User Do\", thus the command grants root user access and hences installation of the library proceeds with all permissions.\n",
    "\n",
    "```python\n",
    ">>> sudo get-apt install python3-libraryname\n",
    "```\n",
    "\n",
    "<br>\n",
    "## Virtual Environment\n",
    "\n",
    "While installing libraries we often come across messages where the dependencies are some times upgraded or sometimes even downgraded/deleted.\n",
    "\n",
    "<img src=\"../../../images/dependency1.PNG\" style=\"width:60vw\">\n",
    "<br>\n",
    "<b>or sometimes</b>\n",
    "<br>\n",
    "<img src=\"../../../images/dependency2.png\" style=\"width:60vw\">\n",
    "\n",
    "<br>\n",
    "This is because the library being installed has dependencies on specific versions of other libraries. Assume that we are trying to install library A and it is dependent upon library B version 4.0. Considering that we have recently upgraded library B on our computer to version 5.0, and its structure may not quiet be the same as library B's version 4.0, the library on our computer would need to be downgraded to the earlier version in order to install library A.\n",
    "\n",
    "Such kind of upgrades and downgrades might help functioning of some code, but may break some other pieces of code. Hence, for this reason we may create a 'virtual environment'. A virtual environment (venv) is a localized environment within which specific versions of libraries can be installed, to enable proper function of a specific application, instead of affecting the global environment and having one master version of libraries (upon which all applications may not be able to work).\n",
    "\n"
   ]
  },
  {
   "cell_type": "code",
   "execution_count": null,
   "metadata": {
    "collapsed": true
   },
   "outputs": [],
   "source": [
    "# No Exercise. Practice by installing third party libraries in your local python environment"
   ]
  },
  {
   "cell_type": "markdown",
   "metadata": {
    "hide_input": true
   },
   "source": [
    "### Solution code\n",
    "\n",
    "```python\n",
    "# No Exercise. Practice by installing third party libraries in your local python environment\n",
    "```"
   ]
  }
 ],
 "metadata": {
  "celltoolbar": "Edit Metadata",
  "kernelspec": {
   "display_name": "Python 3",
   "language": "python",
   "name": "python3"
  },
  "language_info": {
   "codemirror_mode": {
    "name": "ipython",
    "version": 3
   },
   "file_extension": ".py",
   "mimetype": "text/x-python",
   "name": "python",
   "nbconvert_exporter": "python",
   "pygments_lexer": "ipython3",
   "version": "3.6.6"
  }
 },
 "nbformat": 4,
 "nbformat_minor": 2
}
