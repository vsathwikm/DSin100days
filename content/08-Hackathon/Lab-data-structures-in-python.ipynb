{
 "cells": [
  {
   "cell_type": "markdown",
   "metadata": {},
   "source": [
    "## Grocery List\n",
    "\n",
    "Given a grocery list with the items and quantity, for 3 friends Alice, Bob and Charlie. You are also provided a price list for all the items. Write a python program to calculate the total bill amount for Alice, Bob, and Charlie and save it in a dictionary object.\n",
    "\n",
    "Input Example: grocery_list = {\"Alice\" : {\"Apples\": 10 , \"Bananas\" : 5}}\n",
    "\n",
    "price_list = {\"Apples\" : 1.00, \"Bananas\" : 0.50}\n",
    "\n",
    "Output Example:\n",
    "bills = {\"Alice\" : 12.50}"
   ]
  },
  {
   "cell_type": "code",
   "execution_count": 2,
   "metadata": {},
   "outputs": [],
   "source": [
    "#Data \n",
    "grocery_list = {\"Alice\" : {\"Apples\": 3 , \"Bananas\" : 2, \"Potatoes\": 20 , \"Tomatoes\" : 20} , \"Bob\" : {\"Apples\": 15 , \"Bananas\" : 8, \"Potatoes\": 6 }, \"Charlie\" : {\"Apples\": 20 , \"Bananas\" : 12, \"Tomatoes\" : 18}}\n",
    "price_list = {\"Apples\" : 1.00, \"Bananas\" : 0.50 , \"Potatoes\": 2.00 , \"Tomatoes\" : 5.50}\n",
    "\n",
    "# Assign the answers to the corresponding variables. The following methods \"get_answer_1\", \"get_answer_2\", etc... will be \n",
    "# used to evaluate your answers. To make sure you get the correct score, do not make changes to them.\n",
    "b1 = ''\n",
    "answer2 = ''\n",
    "# Write your code below:\n",
    "\n",
    "\n",
    "\n",
    "\n",
    "\n",
    "\n",
    "#################################################################\n",
    "######If you need more code cells insert above this cell#########\n",
    "#######IMPORTANT:DO NOT Write any solution code below############\n",
    "#################################################################\n",
    "def get_answer_1():\n",
    "    #set the 1st answer varible in return statement\n",
    "    return b1\n",
    "\n",
    "def get_answer_2():\n",
    "    #set the 2nd answer varible in return statement\n",
    "    return answer2\n",
    "\n",
    "#################################################################\n"
   ]
  },
  {
   "cell_type": "code",
   "execution_count": null,
   "metadata": {
    "tags": [
     "gradehelper"
    ]
   },
   "outputs": [],
   "source": [
    "%%javascript\n",
    "var nb = IPython.notebook;\n",
    "var kernel = IPython.notebook.kernel;\n",
    "console.log(nb)\n",
    "var command = \"nb_name = '\" + nb.notebook_path  + \"'\";\n",
    "kernel.execute(command);\n",
    "var command2 = \"user_id = '\" +/user\\/([^/]+)\\//.exec(Jupyter.notebook.base_url)[1] + \"'\"; \n",
    "kernel.execute(command2);\n"
   ]
  },
  {
   "cell_type": "code",
   "execution_count": null,
   "metadata": {
    "tags": [
     "grade"
    ]
   },
   "outputs": [],
   "source": [
    "from rfgrade import gradelab as lab\n",
    "print(lab.grade_lab())"
   ]
  }
 ],
 "metadata": {
  "celltoolbar": "Tags",
  "kernelspec": {
   "display_name": "Python 3",
   "language": "python",
   "name": "python3"
  },
  "language_info": {
   "codemirror_mode": {
    "name": "ipython",
    "version": 3
   },
   "file_extension": ".py",
   "mimetype": "text/x-python",
   "name": "python",
   "nbconvert_exporter": "python",
   "pygments_lexer": "ipython3",
   "version": "3.6.8"
  }
 },
 "nbformat": 4,
 "nbformat_minor": 1
}
