{
 "cells": [
  {
   "cell_type": "markdown",
   "metadata": {},
   "source": [
    "## Count Numbers \n",
    "Write a python program to loop through integers from 501 to 1500 (both inclusive) and then count the number of integers such that the integer is:\n",
    "1. Divisible by 2\n",
    "2. Divisible by 3\n",
    "3. Divisible by 5\n",
    "\n",
    "You can repeat the same number in two categories. For example 6 is divisible by both 2 and 3. Hence must be counted under both categories.\n",
    "\n",
    "Finally save them in variable total_divisible_by_2, total_divisible_by_3 and total_divisible_by_5 for counts of numbers divisble by 2,3 and 5 respectively.\n"
   ]
  },
  {
   "cell_type": "code",
   "execution_count": null,
   "metadata": {},
   "outputs": [],
   "source": [
    "# Assign the answers to the corresponding variables. The following methods \"get_answer_1\", \"get_answer_2\", etc... will be \n",
    "# used to evaluate your answers. To make sure you get the correct score, do not make changes to them.\n",
    "total_divisible_by_2 = total_divisible_by_3 = total_divisible_by_5 = 0\n",
    "\n",
    "# Write logic to solve the lab\n",
    "\n",
    "\n",
    "\n",
    "\n",
    "\n",
    "\n",
    "#################################################################\n",
    "######If you need more code cells, insert above this cell########\n",
    "#######IMPORTANT:DO NOT Write any solution code below############\n",
    "#################################################################\n",
    "def get_answer_1():\n",
    "    #set the 1st answer varible in return statement\n",
    "    return total_divisible_by_2\n",
    "\n",
    "def get_answer_2():\n",
    "    #set the 2nd answer varible in return statement\n",
    "    return total_divisible_by_3\n",
    "\n",
    "def get_answer_3():\n",
    "    #set the 3rd answer varible in return statement\n",
    "    return total_divisible_by_5\n",
    "\n",
    "#################################################################\n"
   ]
  },
  {
   "cell_type": "code",
   "execution_count": null,
   "metadata": {
    "tags": [
     "gradehelper"
    ]
   },
   "outputs": [],
   "source": [
    "%%javascript\n",
    "var nb = IPython.notebook;\n",
    "var kernel = IPython.notebook.kernel;\n",
    "console.log(nb)\n",
    "var command = \"nb_name = '\" + nb.notebook_path  + \"'\";\n",
    "kernel.execute(command);\n",
    "var command2 = \"user_id = '\" +/user\\/([^/]+)\\//.exec(Jupyter.notebook.base_url)[1] + \"'\"; \n",
    "kernel.execute(command2);\n"
   ]
  },
  {
   "cell_type": "code",
   "execution_count": null,
   "metadata": {
    "tags": [
     "grade"
    ]
   },
   "outputs": [],
   "source": [
    "from rfgrade import gradelab as lab\n",
    "print(lab.grade_lab())"
   ]
  }
 ],
 "metadata": {
  "celltoolbar": "Tags",
  "kernelspec": {
   "display_name": "Python 3",
   "language": "python",
   "name": "python3"
  },
  "language_info": {
   "codemirror_mode": {
    "name": "ipython",
    "version": 3
   },
   "file_extension": ".py",
   "mimetype": "text/x-python",
   "name": "python",
   "nbconvert_exporter": "python",
   "pygments_lexer": "ipython3",
   "version": "3.6.8"
  }
 },
 "nbformat": 4,
 "nbformat_minor": 1
}
