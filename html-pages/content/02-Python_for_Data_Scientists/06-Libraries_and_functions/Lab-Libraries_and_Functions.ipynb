{
 "cells": [
  {
   "cell_type": "markdown",
   "metadata": {},
   "source": [
    "### Print Prime Numbers \n",
    "Write a python function that takes an integer and checks for prime number. If the input is prime number then print the result. For example if the input number is 3, then print \"The number 10 is prime\". If not print \"The number 10 is not prime\". Then create a range X form 1 to 100(both inclusive) and for each number in X call the function. \n",
    "Use magic command to print the time taken to execute the full program.\n",
    "\n",
    "Hint: Refer to https://ipython.readthedocs.io/en/stable/interactive/magics.html"
   ]
  },
  {
   "cell_type": "code",
   "execution_count": null,
   "metadata": {
    "collapsed": true
   },
   "outputs": [],
   "source": [
    "\n"
   ]
  }
 ],
 "metadata": {
  "kernelspec": {
   "display_name": "Python 3",
   "language": "python",
   "name": "python3"
  },
  "language_info": {
   "codemirror_mode": {
    "name": "ipython",
    "version": 3
   },
   "file_extension": ".py",
   "mimetype": "text/x-python",
   "name": "python",
   "nbconvert_exporter": "python",
   "pygments_lexer": "ipython3",
   "version": "3.6.1"
  }
 },
 "nbformat": 4,
 "nbformat_minor": 1
}
