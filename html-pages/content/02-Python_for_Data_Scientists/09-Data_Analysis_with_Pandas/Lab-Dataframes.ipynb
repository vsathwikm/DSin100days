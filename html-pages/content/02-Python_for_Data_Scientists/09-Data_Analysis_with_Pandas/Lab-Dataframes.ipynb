{
 "cells": [
  {
   "cell_type": "markdown",
   "metadata": {},
   "source": [
    "## Simplify the Grad Students Dataset\n",
    "\n",
    "Given a dataset about Graduate Students and their college majors and other statistics about the number of graduates, number employed etc, write python code to extract the following infromation from the dataset and write to a output file - \"grad_simplified.csv\". Use pandas library (Dataframe) for this purpose.\n",
    "\n",
    "The criteria for output extraction is:\n",
    "\n",
    "1. Only include the columns: Major_Code, Major, Major_Category, Grad_employes and Grad_unemployed\n",
    "2. Only include the Majors that have either 'ENGINEERING', 'TECHNOLOGIES' or 'SCIENCE' (case insensitive) in its major  field.\n",
    "3. Exclude any Major_category that has 'Social Science' or 'Arts' in the name of Major_category.\n",
    "\n",
    "\n"
   ]
  },
  {
   "cell_type": "code",
   "execution_count": 9,
   "metadata": {
    "collapsed": true
   },
   "outputs": [],
   "source": [
    "# Import the library\n",
    "import pandas as pd\n",
    "\n",
    "grad_url = \"https://raw.githubusercontent.com/colaberry/538data/master/college-majors/grad-students.csv\"\n",
    "grad_students = pd.read_csv(grad_url)\n",
    "\n",
    "#Write your code here or in other code cells down"
   ]
  }
 ],
 "metadata": {
  "kernelspec": {
   "display_name": "Python 3",
   "language": "python",
   "name": "python3"
  },
  "language_info": {
   "codemirror_mode": {
    "name": "ipython",
    "version": 3
   },
   "file_extension": ".py",
   "mimetype": "text/x-python",
   "name": "python",
   "nbconvert_exporter": "python",
   "pygments_lexer": "ipython3",
   "version": "3.6.1"
  }
 },
 "nbformat": 4,
 "nbformat_minor": 1
}
