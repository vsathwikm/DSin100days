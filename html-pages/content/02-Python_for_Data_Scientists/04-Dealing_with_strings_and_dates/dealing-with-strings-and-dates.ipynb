{
 "cells": [
  {
   "cell_type": "markdown",
   "metadata": {
    "tags": [
     "content",
     "l6",
     "s6"
    ]
   },
   "source": [
    "# Dealing with Strings and Dates\n",
    "\n",
    "## Strings\n",
    "\n",
    "A string is a sequence of characters.\n",
    "\n",
    "Strings in python are easy to work with. \n",
    "\n",
    "\n",
    "### String Creation\n",
    "\n",
    "A string can be created by enclosing characters inside single quotes or double quotes.\n",
    "\n",
    "```python\n",
    "str = 'This is a string'\n",
    "\n",
    "str2 = \"This is also a string\"\n",
    "\n",
    "```\n",
    "Here are the commonly used string operations:\n",
    "\n",
    "\n",
    "### Concatenation:\n",
    "\n",
    "To concatenate two strings, \"chair\" and \"table\", you can use:\n",
    "\n",
    "```python\n",
    "furniture = \"chair\" + \", table\"\n",
    "```\n",
    "\n",
    "### Other operations:\n",
    "\n",
    ".lower(), .upper() to lower & upper case the strings\n",
    "\n",
    "Ref: https://docs.python.org/3/library/string.html\n",
    "\n",
    "### Regular Expressions:\n",
    "\n",
    "You can use 're' package to work with regular expressions. For example the following code can be used to find the position of the string\n",
    "\n",
    "```python\n",
    "import re -- Importing re library\n",
    "mangoes = re.search(\"Mango\", \"This is a Mango\") -- Searching for the first occurance of string Mango\n",
    "mangoes.group(0)\n",
    "print (mangoes)\n",
    "<_sre.SRE_Match object; span=(10, 15), match='Mango'> -- Printing the search results with 10 as the starting index of Mango and 15 as the ending index of the mango in the input string\n",
    "```\n",
    "\n",
    "\n",
    "\n",
    "Ref: https://docs.python.org/3/library/re.html\n",
    "\n",
    "### Exercise\n",
    "\n",
    "* a) Given two strings a = \"hello! How are you?\" and b = \"how can I help you? \", concatenate them into a new string c. Print c\n",
    "* b) Use regular expressions to search for 'hel' in string c and assign it to variable hel_strings"
   ]
  },
  {
   "cell_type": "code",
   "execution_count": 38,
   "metadata": {
    "tags": [
     "ce",
     "l6",
     "s6"
    ]
   },
   "outputs": [],
   "source": [
    "a = \"hello! How are you? \"\n",
    "b = \"how can I help you?\"\n",
    "\n",
    "# regular expression"
   ]
  },
  {
   "cell_type": "markdown",
   "metadata": {
    "collapsed": true,
    "hide_input": true,
    "tags": [
     "l6",
     "s6",
     "hint"
    ]
   },
   "source": [
    "### Solution\n",
    "\n",
    "```python\n",
    "\n",
    "import re\n",
    "\n",
    "c = a + b\n",
    "print (c)\n",
    "\n",
    "hel_strings = re.search(\"hel\", c)\n",
    "print(hel_strings.group(0))\n",
    "\n",
    "```\n",
    "\n",
    "After successful execution of this exercise, we encourage you to try to find the index of second 'hel' for fun and practice."
   ]
  },
  {
   "cell_type": "markdown",
   "metadata": {},
   "source": [
    "## Wild cards in Regular Expression\n",
    "\n",
    "A period symbol is used to match any character.\n",
    "\n",
    "```python\n",
    "re.search(r'Bo.st.r', 'Booster').group()\n",
    "```\n",
    "\n",
    "### Exercise\n",
    "\n",
    "* a) In the string a = \"hello! How are you?\" use regular expressions with wild card for 2nd and 3rd characters to search for 'hello' and assign it to variable wildcard_search"
   ]
  },
  {
   "cell_type": "code",
   "execution_count": 39,
   "metadata": {},
   "outputs": [],
   "source": [
    "# Follow the above pattern for wild card search\n",
    "#write your code below"
   ]
  },
  {
   "cell_type": "markdown",
   "metadata": {
    "hide_input": true
   },
   "source": [
    "### Solution code\n",
    "\n",
    "```python\n",
    "\n",
    "re.search(r'h..lo', a).group()\n",
    "\n",
    "```"
   ]
  },
  {
   "cell_type": "markdown",
   "metadata": {},
   "source": [
    "## Numbers and repetitions\n",
    "\n",
    "A \\d is used to match numbers or digits. And a number of repetitions is matched using \n",
    "{x} where x is the number of repetitions.\n",
    "\n",
    "```python\n",
    "re.search(r'\\d{3}-\\d{3}-\\d{4}', 'the phone number of John is 109-876-5432').group()\n",
    "\n",
    "```\n",
    "\n",
    "### Exercise\n",
    "\n",
    "* a) In the phone number text contact = 'the phone number of John is 201.442.4536' use regular expressions to obain the phone number, assign it to variable phone_no and print it."
   ]
  },
  {
   "cell_type": "code",
   "execution_count": 5,
   "metadata": {},
   "outputs": [],
   "source": [
    "contact = 'the phone number of Jane is 201.442.4536'\n",
    "\n",
    "#write your code below\n"
   ]
  },
  {
   "cell_type": "markdown",
   "metadata": {
    "collapsed": true,
    "hide_input": true,
    "tags": [
     "hid",
     "s6",
     "l6"
    ]
   },
   "source": [
    "### Solution code\n",
    "\n",
    "```python\n",
    "\n",
    "phone_no = re.search(r'\\d{3}.\\d{3}.\\d{4}', contact).group()\n",
    "print(phone_no)\n",
    "\n",
    "```\n"
   ]
  },
  {
   "cell_type": "markdown",
   "metadata": {},
   "source": [
    "## Additional String Operations\n",
    "\n",
    "### Accessing the characters\n",
    "\n",
    "The individual characters of a string can be accessed by using indexing. Similarly a range of characters of a string can be accessed by using slicing. In python string indices start from 0.\n",
    "\n",
    "```python\n",
    "str1 = 'A String example'\n",
    "print('str1 = ', str1)\n",
    "\n",
    "# Output\n",
    ">>>str1 =  A String example\n",
    "\n",
    "\n",
    "#Print the first character\n",
    "print('str1[0] = ', str1[0])\n",
    "\n",
    "# Output\n",
    ">>>str1[0] =  A\n",
    "\n",
    "```\n",
    "\n",
    "\n",
    "In order to access a range of characters a slice could be used.\n",
    "\n",
    "```python\n",
    "#To access the substring exam from str1, we could slice from 9 to 13th character (13 excluded) \n",
    "print('str1[9:13] = ', str1[9:13])\n",
    "\n",
    "# Output\n",
    ">>>str1[9:13] =  exam\n",
    "\n",
    "```\n",
    "\n",
    "### Exercise\n",
    "\n",
    "In the below exercise access the substring \"Python\" from the input string,  \"Its awesome working with Python!\" and assign it to variable str_python"
   ]
  },
  {
   "cell_type": "code",
   "execution_count": 41,
   "metadata": {
    "collapsed": true
   },
   "outputs": [],
   "source": [
    "str_input = 'Its awesome working with Python!'\n",
    "\n",
    "#Add code to fetch the string \"Python\" from above input\n",
    "#Use slicing of string\n"
   ]
  },
  {
   "cell_type": "markdown",
   "metadata": {
    "hide_input": true
   },
   "source": [
    "### Solution code\n",
    "\n",
    "```python\n",
    "\n",
    "str_python = str_input[25:31]\n",
    "print('str_python = ', str_python)\n",
    "\n",
    "```"
   ]
  },
  {
   "cell_type": "markdown",
   "metadata": {},
   "source": [
    "\n",
    "## Replace a String\n",
    "\n",
    "String replace() method is used to replace a given substring within a string.\n",
    "\n",
    "```python\n",
    "str1 = 'firststring'\n",
    "print('str1 = ', str1)\n",
    "\n",
    "# Output\n",
    ">>>str1 =  firststring\n",
    "\n",
    "#Print the first character\n",
    "str2 = str1.replace('first','second')\n",
    "print('str2 = ', str2)\n",
    "\n",
    "# Output\n",
    ">>>str2 =  secondstring\n",
    "\n",
    "```\n",
    "\n",
    "### Exercise\n",
    "\n",
    "In the below exercise in the substring  input_str, replace \"Hi\" with \"Hello\" and assign it to variable output_str"
   ]
  },
  {
   "cell_type": "code",
   "execution_count": 8,
   "metadata": {},
   "outputs": [],
   "source": [
    "input_str = 'Hi There!'\n",
    "#Replace Hi with Hello\n"
   ]
  },
  {
   "cell_type": "markdown",
   "metadata": {
    "hide_input": true
   },
   "source": [
    "### Solution code\n",
    "\n",
    "```python\n",
    "\n",
    "output_str = input_str.replace('Hi','Hello')\n",
    "print('output_str = ', output_str)\n",
    "\n",
    "```"
   ]
  },
  {
   "cell_type": "markdown",
   "metadata": {},
   "source": [
    "### Join Two Strings\n",
    "\n",
    "String join() method is used to a given character or string to every character in a string.\n",
    "For example if you want to add a hyphen character between each character in a second string, you could use a join.\n",
    "\n",
    "```python\n",
    "str1 = '-'\n",
    "print('str1 = ', str1)\n",
    "\n",
    "#Print the first character\n",
    "str2 = str1.join('word')\n",
    "print('str2 = ', str2)\n",
    "```\n",
    "\n",
    "### Reverse a String\n",
    "\n",
    "String reversed() method is used to reverse each character in a given string and return an iterator.\n",
    "\n",
    "```python\n",
    "string=\"12345\"\n",
    "print(\"\".join(reversed(string)))\n",
    "```\n",
    "\n",
    "\n",
    "### Exercise\n",
    "\n",
    "In the below exercise given two strings string1 and string2, join both strings by reversing string2 and assign it to variable string3. Print the resultant string3."
   ]
  },
  {
   "cell_type": "code",
   "execution_count": 43,
   "metadata": {},
   "outputs": [],
   "source": [
    "string1 = ','\n",
    "\n",
    "string2 = 'abcde'\n"
   ]
  },
  {
   "cell_type": "markdown",
   "metadata": {
    "hide_input": true
   },
   "source": [
    "### Solution code\n",
    "\n",
    "```python\n",
    "\n",
    "string3=string1.join(reversed(string2))\n",
    "print(string3)\n",
    "\n",
    "```"
   ]
  },
  {
   "cell_type": "markdown",
   "metadata": {},
   "source": [
    "# Differentiating number from strings\n",
    "\n",
    "In Data Science context, you often encounter a situation to deal with numeric values as opposed to strings. This task gets complicated due to the fact that the input comes from text files such as csv files.\n",
    "\n",
    "In such cases, you need a mechanism to handle numbers separately from strings. Before you could do that, you need to sepatare them out using python constructs.\n",
    "\n",
    "```python\n",
    "a = \"10\"\n",
    "b = \"100.5\"\n",
    "try:\n",
    "    intvalue = int(a)\n",
    "except ValueError:\n",
    "    # Oops, it wasn't an int, and that's fine\n",
    "    pass\n",
    "else:\n",
    "    # It was an int, and now we have the int value\n",
    "    outintvalue = intvalue/2\n",
    "\n",
    "try:\n",
    "    floatvalue = float(a)\n",
    "except ValueError:\n",
    "    # Oops, it wasn't an int, and that's fine\n",
    "    pass\n",
    "else:\n",
    "    # It was an int, and now we have the int value\n",
    "    outvalue = floatvalue*2\n",
    "\n",
    "\n",
    "```\n",
    "\n",
    "### Exercise\n",
    "\n",
    "Given an input variable, \"invar\", write python code to output a variable \"outvar\". In case of string variable, output \"String:input string\". In case of integer input value, output 2*inputvar."
   ]
  },
  {
   "cell_type": "code",
   "execution_count": 44,
   "metadata": {},
   "outputs": [],
   "source": [
    "inputvar = \"30\"\n",
    "\n"
   ]
  },
  {
   "cell_type": "markdown",
   "metadata": {
    "hide_input": true
   },
   "source": [
    "### Solution code\n",
    "\n",
    "```python\n",
    "\n",
    "try:\n",
    "    intvalue = int(inputvar)\n",
    "except ValueError:\n",
    "    outvar = \"String:\" + inputvar\n",
    "    pass\n",
    "\n",
    "else:\n",
    "    # It was an int, and now we have the int value\n",
    "    outvar = intvalue*2\n",
    "    \n",
    "print(outvar)\n",
    "\n",
    "```"
   ]
  },
  {
   "cell_type": "markdown",
   "metadata": {},
   "source": [
    "## Date and Time operations\n",
    "\n",
    "In python, the datetime module supplies classes for manipulating dates and times in both simple and complex ways\n",
    "\n",
    "In datetime module there are classes such as date, time and datetime that provide a number of function to deal with dates, times and time intervals. Date and datetime are an object in Python. When you manipulate these objects you are actually working with the objects and not the string.\n",
    "\n",
    "date – Manipulate just date ( Month, day, year) <br>\n",
    "time – Time independent of the day (Hour, minute, second, microsecond)<br>\n",
    "datetime – Combination of time and date (Month, day, year, hour, second, microsecond)<br>\n",
    "timedelta— A duration of time used for manipulating dates<br>\n",
    "tzinfo— An abstract class for dealing with time zones<br>\n",
    "\n",
    "\n",
    "```python\n",
    "from datetime import date\n",
    "from datetime import time\n",
    "from datetime import datetime\n",
    "today = date.today()\n",
    "now = datetime.now()\n",
    "print(today)\n",
    "print(now)\n",
    "\n",
    "```\n",
    "\n",
    "### Exercise\n",
    "\n",
    "Write pyton code to import date,time and datetime from datetime library. The assign variable today_now with the current date with timestamp. Hint: use datetime module.  "
   ]
  },
  {
   "cell_type": "code",
   "execution_count": 6,
   "metadata": {},
   "outputs": [],
   "source": [
    "#write your code below\n",
    "from datetime import date\n"
   ]
  },
  {
   "cell_type": "markdown",
   "metadata": {
    "hide_input": true
   },
   "source": [
    "### Solution code\n",
    "\n",
    "```python\n",
    "\n",
    "from datetime import time\n",
    "from datetime import datetime\n",
    "today_now = datetime.today()\n",
    "print(today_now)\n",
    "\n",
    "```\n"
   ]
  },
  {
   "cell_type": "markdown",
   "metadata": {},
   "source": [
    "## Date operations\n",
    "\n",
    "date.today function has several properties associated with it. We can print individual day/month/year by using the day, month and year component.\n",
    "\n",
    "For example:\n",
    "\n",
    "```python\n",
    "\n",
    "day = today.day\n",
    "print(\"Day component is \", day)\n",
    "\n",
    "\n",
    "month = today.month\n",
    "print(\"Month component is \", month)\n",
    "\n",
    "\n",
    "year = today.year\n",
    "print(\"Year component is \", year)\n",
    "\n",
    "\n",
    "\n",
    "```\n",
    "\n",
    "\n",
    "## Time operations\n",
    "\n",
    "datetime object has individual components representing hour, minute, seconds by using the properties.\n",
    "\n",
    "For example:\n",
    "\n",
    "```python\n",
    "\n",
    "from datetime import datetime\n",
    "today_now = datetime.today()\n",
    "print(today_now)\n",
    "\n",
    "hour = today_now.hour\n",
    "print(\"Hour component is \", hour)\n",
    "\n",
    "\n",
    "minute = today_now.minute\n",
    "print(\"Minute component is \", minute)\n",
    "\n",
    "\n",
    "seconds = today_now.second\n",
    "print(\"Second component is \", seconds)\n",
    "\n",
    "\n",
    "```\n",
    "### Exercise\n",
    "\n",
    "From the variable today_now extract day,month, year, hour, minute and seconds in respective variable names and print each of the six components. For example if timestamp is 2018-08-14 19:06:46.291600 then print : \"Day Component is 14\". Similarly print other 5 components mentioned above. "
   ]
  },
  {
   "cell_type": "code",
   "execution_count": 7,
   "metadata": {},
   "outputs": [],
   "source": [
    "#write your code below\n"
   ]
  },
  {
   "cell_type": "markdown",
   "metadata": {
    "hide_input": true
   },
   "source": [
    "### Solution code\n",
    "\n",
    "```python\n",
    "from datetime import datetime\n",
    "today_now = datetime.today()\n",
    "print(today_now)\n",
    "\n",
    "day = today_now.day\n",
    "print(\"Day component is \", day)\n",
    "\n",
    "\n",
    "month = today_now.month\n",
    "print(\"Month component is \", month)\n",
    "\n",
    "\n",
    "year = today_now.year\n",
    "print(\"Year component is \", year)\n",
    "\n",
    "\n",
    "\n",
    "hour = today_now.hour\n",
    "print(\"Hour component is \", hour)\n",
    "\n",
    "\n",
    "minute = today_now.minute\n",
    "print(\"Minute component is \", minute)\n",
    "\n",
    "\n",
    "seconds = today_now.second\n",
    "print(\"Second component is \", seconds)\n",
    "\n",
    "```"
   ]
  },
  {
   "cell_type": "markdown",
   "metadata": {
    "collapsed": true
   },
   "source": [
    "### Formatting DateTime Strings\n",
    "\n",
    "In datetime module, the strptime method is used for parsing a formatted date string to a datetime object.\n",
    "The string and the format it represents is provided as the parameters. See code example below.\n",
    "\n",
    "```python\n",
    "from datetime import datetime\n",
    "\n",
    "datetime_obj = datetime.strptime('Jul 12 2018 7:24PM', '%b %d %Y %I:%M%p')\n",
    "\n",
    "```\n",
    "\n",
    "While representing the datetime format, here are the format string parts and what they represent.\n",
    "\n",
    "%d\tDay of the month as a zero-padded decimal <br>\n",
    "%b\tMonth as locale’s abbreviated name. <br>\n",
    "%Y\tYear with century as a decimal number. <br>\n",
    "%I\tHour (12-hour clock) as a zero-padded decimal number. <br>\n",
    "%M\tMinute as a zero-padded decimal number. <br>\n",
    "%p\tLocale’s equivalent of either AM or PM. <br>\n",
    "\n",
    "Reference: For additional details refer to the link https://docs.python.org/2/library/datetime.html#strftime-strptime-behavior\n",
    "\n",
    "### Exercise\n",
    "\n",
    "Take a string str_dttm = \"Jul 14 2018 5:10AM\" and parse it as a datetime object in to a variable parsed_dttm. Print parsed_dttm."
   ]
  },
  {
   "cell_type": "code",
   "execution_count": 47,
   "metadata": {},
   "outputs": [],
   "source": [
    "from datetime import datetime\n",
    "str_dttm = \"Jul 14 2018 5:10AM\"\n",
    "\n",
    "# write your code below\n"
   ]
  },
  {
   "cell_type": "markdown",
   "metadata": {
    "hide_input": true
   },
   "source": [
    "### Solution code\n",
    "\n",
    "```python\n",
    "\n",
    "\n",
    "parsed_dttm = datetime.strptime(str_dttm, '%b %d %Y %I:%M%p')\n",
    "print(parsed_dttm)\n",
    "```"
   ]
  },
  {
   "cell_type": "markdown",
   "metadata": {},
   "source": [
    "## Time delta\n",
    "\n",
    "timedelta object represents a duration, the difference between two dates or times. This difference could be represented as years, months, days, hours, minutes, seconds or any combination there of. Look at the code example below, where one year difference is specified in different ways.\n",
    "\n",
    "```python\n",
    "from datetime import timedelta\n",
    "\n",
    "#One year represented as 365 days\n",
    "year = timedelta(days=365)\n",
    "\n",
    "#One year represented as combination of weeks, days etc.\n",
    "another_year = timedelta(weeks=40, days=84, hours=23, minutes=50, seconds=600)  # adds up to 365 days\n",
    "\n",
    "#compare if both are same. The result is True\n",
    "year == another_year\n",
    "\n",
    "```\n",
    "\n",
    "### Exercise\n",
    "\n",
    "In this exercise get time delta of exactly 200 days interms of weeks, days, hours, minutes and seconds and assign it to variable future_date using below criteria. Print future_date.\n",
    "\n",
    "#### Criteria:<br>\n",
    "Days must be between 1 to 7<br>\n",
    "Hours must be between 1 to 23<br>\n",
    "Minutes must be between 1 to 59<br>\n"
   ]
  },
  {
   "cell_type": "code",
   "execution_count": 48,
   "metadata": {},
   "outputs": [],
   "source": [
    "from datetime import timedelta\n",
    "\n",
    "# write your code below\n",
    "\n"
   ]
  },
  {
   "cell_type": "markdown",
   "metadata": {
    "hide_input": true
   },
   "source": [
    "### Solution code\n",
    "\n",
    "```python\n",
    "\n",
    "future_date = timedelta(weeks=28, days=3, hours=23, minutes=59, seconds=60)  # adds up to 200 days\n",
    "print(future_date)\n",
    "\n",
    "```"
   ]
  }
 ],
 "metadata": {
  "anaconda-cloud": {},
  "celltoolbar": "Edit Metadata",
  "executed_sections": [],
  "kernelspec": {
   "display_name": "Python 3",
   "language": "python",
   "name": "python3"
  },
  "language_info": {
   "codemirror_mode": {
    "name": "ipython",
    "version": 3
   },
   "file_extension": ".py",
   "mimetype": "text/x-python",
   "name": "python",
   "nbconvert_exporter": "python",
   "pygments_lexer": "ipython3",
   "version": "3.6.5"
  }
 },
 "nbformat": 4,
 "nbformat_minor": 2
}
