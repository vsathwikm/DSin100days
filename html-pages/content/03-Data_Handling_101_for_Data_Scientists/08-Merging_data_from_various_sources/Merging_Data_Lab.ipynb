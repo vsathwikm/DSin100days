{
 "cells": [
  {
   "cell_type": "markdown",
   "metadata": {},
   "source": [
    "## Online Transactions\n",
    "\n",
    "\n",
    "You are familiar with the following data sets - \n",
    "* Customer_Order: \n",
    "* products:\n",
    "* Online Orders:\n",
    "\n",
    "<img src=\"../../../images/merge.PNG\" style=\"width:65vw\">\n",
    "\n",
    "Combine the datasets in order to answer the below question.\n",
    "\n",
    "Find all customers who have purchased 'Regis Stapler' and/or any 'Pilot pens' products and whose total transaction value is over a 1000. (Hint: You may need to use regular expressions)"
   ]
  }
 ],
 "metadata": {
  "kernelspec": {
   "display_name": "Python 3",
   "language": "python",
   "name": "python3"
  },
  "language_info": {
   "codemirror_mode": {
    "name": "ipython",
    "version": 3
   },
   "file_extension": ".py",
   "mimetype": "text/x-python",
   "name": "python",
   "nbconvert_exporter": "python",
   "pygments_lexer": "ipython3",
   "version": "3.6.5"
  }
 },
 "nbformat": 4,
 "nbformat_minor": 2
}
