{
 "cells": [
  {
   "cell_type": "markdown",
   "metadata": {
    "tags": [
     "s1",
     "content",
     "l1"
    ]
   },
   "source": [
    "# Advanced SQL\n",
    "\n",
    "After handling basic sql queries through Python, let us look at slightly more advanced SQL queries and their execution through Python's sqlite module. SQL concepts like nested queries, merges, join operations are some of the basic concepts among advanced sql queries. In order to execute queries and practice these concepts, we need to first load data. Most of these concepts involve more than one table, so we will load and work with data among two tables.\n",
    "\n",
    "## Introduction to Fandango dataset\n",
    "\n",
    "Fandango is an online ticketing platform for movies. In order to support user's ticket buying decision, Fandango has viewer reviews and ratings for movie listings. This Fandango data set consists of two files - Fandango scrape and Fandango score comparison. The Fandango scrape consists of the list of movies on Fandango and their ratings. The score comparison file consists of the movie name and compares Fandango's movie score with that of other movie review websites like rotten tomatoes and metacritic.\n",
    "\n",
    "### Exercise\n",
    "\n",
    "Connect to fandangodb.db and load the two data sets, fandango_scrape and fandango_score_comparison into two tables 'fscrape' and 'fscore' respectively."
   ]
  },
  {
   "cell_type": "code",
   "execution_count": 1,
   "metadata": {
    "collapsed": true,
    "tags": [
     "s1",
     "ce",
     "l1"
    ]
   },
   "outputs": [],
   "source": [
    "import sqlite3\n",
    "import csv\n",
    "import pandas as pd\n",
    "\n",
    "# Connecting to the database\n",
    "fancon = sqlite3.connect(':memory:')\n",
    "\n",
    "# Reading data into tables\n",
    "scrapedf = pd.read_csv('https://raw.githubusercontent.com/colaberry/538data/master/fandango/fandango_scrape.csv')\n",
    "scoredf = pd.read_csv('https://raw.githubusercontent.com/colaberry/538data/master/fandango/fandango_score_comparison.csv')\n",
    "scrapedf.to_sql(name='fscrape',con=fancon,if_exists='append',index=False)\n",
    "scoredf.to_sql(name='fscore',con=fancon,if_exists='append',index=False)"
   ]
  },
  {
   "cell_type": "markdown",
   "metadata": {
    "collapsed": true,
    "hide_input": true,
    "tags": [
     "s1",
     "l1",
     "hint"
    ]
   },
   "source": [
    "### Solution code\n",
    "\n",
    "```python\n",
    "# Run above code\n",
    "```"
   ]
  },
  {
   "cell_type": "markdown",
   "metadata": {
    "tags": [
     "l2",
     "content",
     "s2"
    ]
   },
   "source": [
    "In the above step we have loaded two files fandango_score_comparison and fandango_scrape into two dataframes. Let us verify the success of the loading operation by visualizing the dataframes.\n",
    "\n",
    "### Exercise\n",
    "\n",
    "Visualize the heads of both data frames created in the step above. Read and understand the nature of the data."
   ]
  },
  {
   "cell_type": "code",
   "execution_count": null,
   "metadata": {
    "collapsed": true,
    "tags": [
     "l2",
     "ce",
     "s2"
    ]
   },
   "outputs": [],
   "source": [
    "# Use .head(5) function on the dataframes to visualize first 5 rows of the dataframes.\n",
    "# Use print function to print both the dataframes in a single step."
   ]
  },
  {
   "cell_type": "markdown",
   "metadata": {
    "hide_input": true,
    "tags": [
     "l2",
     "s2",
     "ans"
    ]
   },
   "source": [
    "### Solution code\n",
    "\n",
    "```python\n",
    "print(scrapedf.head(5),scoredf.head(5))\n",
    "```"
   ]
  },
  {
   "cell_type": "markdown",
   "metadata": {
    "tags": [
     "l3",
     "s3",
     "content"
    ]
   },
   "source": [
    "Let us understand a bit more about the data, before using SQL queries to analyze it.\n",
    "\n",
    "### Exercise\n",
    "\n",
    "Find the total number of rows in both the tables and print them out. You may use the dataframes to count the data."
   ]
  },
  {
   "cell_type": "code",
   "execution_count": 2,
   "metadata": {
    "collapsed": true,
    "tags": [
     "l3",
     "s3",
     "ce"
    ]
   },
   "outputs": [],
   "source": [
    "# Use a simple print statement to print the number of rows\n",
    "# Use the length method on the dataframes"
   ]
  },
  {
   "cell_type": "markdown",
   "metadata": {
    "collapsed": true,
    "hide_input": true,
    "tags": [
     "l3",
     "s3",
     "ans"
    ]
   },
   "source": [
    "### Solution code\n",
    "\n",
    "```python\n",
    "print(\"Total number of records in fscrape table=%d and fscore table=%d\"%(len(scrapedf),len(scoredf)))\n",
    "```"
   ]
  },
  {
   "cell_type": "markdown",
   "metadata": {
    "tags": [
     "l4",
     "s4",
     "content"
    ]
   },
   "source": [
    "## Union, Intersection and Minus\n",
    "\n",
    "<img src=\"../../../images/intersect_union_minus.png\" style=\"width: 65vw;\"> <br>\n",
    "\n",
    "Union is a set theory concept which says that it is a collection of all unique elements of two or more sets. When performed among two tables say by specifying column name, it outputs the collection of all unique values that appear in the common column, of either or both tables. Intersection outputs the values that are appear in both tables. Note that when performed on same inputs, intersection will always be a subset of Union. Minus operation results in values/records, featuring in one table but not featuring in the other - i.e. A-B = A-(Intersection(A,B)).\n",
    "\n",
    "### Exercise\n",
    "\n",
    "Execute Union and Intersection operations on 'FILM' column of 'fscore' and 'fscrape' tables to understand the data better as well as understand the operations better.\n",
    "* 1) Execute the SQL query\n",
    "* 2) Fetch the output and store it in an array\n",
    "* 3) Print the first five rows and size of the array to show total number of records in output"
   ]
  },
  {
   "cell_type": "code",
   "execution_count": 4,
   "metadata": {
    "tags": [
     "l4",
     "s4",
     "ce"
    ]
   },
   "outputs": [
    {
     "name": "stdout",
     "output_type": "stream",
     "text": [
      "\n"
     ]
    }
   ],
   "source": [
    "fancur = fancon.cursor()\n",
    "\n",
    "# Modify the code below\n",
    "fancur.execute(\"SELECT...UNION...\")\n",
    "unionout = fancur.fetchall()\n",
    "fancur.execute(\"...INTERSECT...\")\n",
    "intersectout = fancur.fetchall()\n",
    "fancur.execute(\"...EXCEPT...\")\n",
    "exceptout = fancur.fetchall()\n",
    "\n",
    "# 'MINUS' keyword is not supported in sqlite module at present. 'EXCEPT' keyword can be used as a substitute.\n",
    "# The EXCEPT query returns the same output as MINUS."
   ]
  },
  {
   "cell_type": "markdown",
   "metadata": {
    "hide_input": true,
    "tags": [
     "s4",
     "l4",
     "ans"
    ]
   },
   "source": [
    "### Solution code\n",
    "\n",
    "```python\n",
    "fancur.execute(\"SELECT FILM FROM fscore UNION SELECT FILM FROM fscrape\")\n",
    "unionout = fancur.fetchall()\n",
    "fancur.execute(\"SELECT FILM FROM fscore INTERSECT SELECT FILM FROM fscrape\")\n",
    "intersectout = fancur.fetchall()\n",
    "fancur.execute(\"SELECT FILM FROM fscrape EXCEPT SELECT FILM FROM fscore\")\n",
    "exceptout = fancur.fetchall()\n",
    "print(unionout[:5],intersectout[:5],exceptout[:5])\n",
    "print(\"total number of rows in union=%d, total number of rows in intersection=%d, total number of rows in minus=%d\"%(len(unionout),len(intersectout),len(exceptout)))\n",
    "```"
   ]
  },
  {
   "cell_type": "markdown",
   "metadata": {
    "tags": [
     "l5",
     "content",
     "s5"
    ]
   },
   "source": [
    "### Nested query\n",
    "\n",
    "A Nested query, also referred to as sub-query, is a query within a query. This means that the innermost query is executed first and the output of that query serves as an input to the query which surrounds the embedded query.\n",
    "\n",
    "From above analysis we can see that fscrape is a bigger list and fscore is a smaller list of movies. Let us retrieve complete Fandango information for all movies that have an IMDB score of more than 7.5\n",
    "\n",
    "#### Exercise\n",
    "\n",
    "Retrieve FILM, STARS, RATING, VOTES for all movies that have an IMDB rating greater than 7.5 in the fscore table. Note: Do not use 'JOIN' operation to solve this exercise."
   ]
  },
  {
   "cell_type": "code",
   "execution_count": 5,
   "metadata": {
    "tags": [
     "l5",
     "ce",
     "s5"
    ]
   },
   "outputs": [
    {
     "name": "stdout",
     "output_type": "stream",
     "text": [
      "\n"
     ]
    }
   ],
   "source": [
    "# Modify the code below\n",
    "fancur.execute('SELECT...IN (SELECT...)')"
   ]
  },
  {
   "cell_type": "markdown",
   "metadata": {
    "hide_input": true,
    "tags": [
     "l5",
     "s5",
     "ans"
    ]
   },
   "source": [
    "### Solution code\n",
    "\n",
    "```python\n",
    "fancur.execute('''SELECT * FROM fscrape\n",
    "                WHERE FILM IN (\n",
    "                SELECT FILM FROM fscore\n",
    "                WHERE IMDB>7.5)''')\n",
    "nestout = fancur.fetchall()\n",
    "print(nestout[:5])\n",
    "print(\"total number of rows=%d\"%len(nestout))\n",
    "```"
   ]
  },
  {
   "cell_type": "markdown",
   "metadata": {
    "tags": [
     "content",
     "l6",
     "s6"
    ]
   },
   "source": [
    "### Types of joins\n",
    "\n",
    "A join is an operation that is used to combine data from two tables, given that there is a common column in both of them. There are four types of joins:\n",
    "1) Inner join - returns common records among both the tables\n",
    "2) Right join - returns all records from right table, and the common records from the left table\n",
    "3) Left join - returns all records from left table, and the common records from the right table\n",
    "4) Full join - returns all records when the common record is either in table 1 or table 2.\n",
    "\n",
    "Lets understand what they actually mean by executing these operations on the two tables.\n",
    "\n",
    "#### Exercise (a)\n",
    "\n",
    "Execute inner join operation on the 'fscore' and 'fscrape' tables. Note that FILM is the common column among both tables."
   ]
  },
  {
   "cell_type": "code",
   "execution_count": 6,
   "metadata": {
    "tags": [
     "ce",
     "l6",
     "s6"
    ]
   },
   "outputs": [
    {
     "name": "stdout",
     "output_type": "stream",
     "text": [
      "\n"
     ]
    }
   ],
   "source": [
    "from tabulate import tabulate\n",
    "\n",
    "fancur.execute('''SELECT...INNER JOIN...ON...''')\n",
    "templist1 = fancur.fetchall()\n",
    "headers1 = []\n",
    "print(tabulate(templist1, headers1))"
   ]
  },
  {
   "cell_type": "markdown",
   "metadata": {
    "hide_input": true,
    "tags": [
     "l6",
     "s6",
     "ans"
    ]
   },
   "source": [
    "### Solution code\n",
    "\n",
    "```python\n",
    "fancur.execute('''SELECT fscore.FILM,\n",
    "                  fscore.RottenTomatoes,\n",
    "                  fscore.Metacritic,\n",
    "                  fscore.IMDB,\n",
    "                  fscrape.RATING,\n",
    "                  fscrape.VOTES\n",
    "                  FROM fscore\n",
    "                  INNER JOIN fscrape\n",
    "                  ON\n",
    "                  fscore.FILM=fscrape.FILM''')\n",
    "templist1 = fancur.fetchall()\n",
    "headers1 = ['FILM','rottentomatoes','metacritic','Imdb','fandangorating','fandangovotes']\n",
    "print(tabulate(templist1, headers1))\n",
    "print(len(templist1))\n",
    "```"
   ]
  },
  {
   "cell_type": "markdown",
   "metadata": {
    "tags": [
     "l7",
     "s7",
     "content"
    ]
   },
   "source": [
    "Now that we have seen the results of an 'inner join' operation, Let's replicate the same for a 'left join'.\n",
    "\n",
    "#### Exercise (b)\n",
    "\n",
    "Execute a left join operation on the 'fscore' and 'fscrape' tables. Note that FILM is the common column among both tables."
   ]
  },
  {
   "cell_type": "code",
   "execution_count": 7,
   "metadata": {
    "tags": [
     "l7",
     "s7",
     "ce"
    ]
   },
   "outputs": [
    {
     "name": "stdout",
     "output_type": "stream",
     "text": [
      "\n"
     ]
    }
   ],
   "source": [
    "fancur.execute()\n",
    "templist2 = \n",
    "headers2 = []"
   ]
  },
  {
   "cell_type": "markdown",
   "metadata": {
    "hide_input": true,
    "tags": [
     "l7",
     "s7",
     "ans"
    ]
   },
   "source": [
    "### Solution code\n",
    "\n",
    "```python\n",
    "fancur.execute('''SELECT fscore.FILM,\n",
    "                  fscore.RottenTomatoes,\n",
    "                  fscore.Metacritic,\n",
    "                  fscore.IMDB,\n",
    "                  fscrape.RATING,\n",
    "                  fscrape.VOTES\n",
    "                  FROM fscore\n",
    "                  LEFT JOIN fscrape\n",
    "                  ON\n",
    "                  fscore.FILM=fscrape.FILM''')\n",
    "templist2 = fancur.fetchall()\n",
    "headers2 = ['FILM','rottentomatoes','metacritic','Imdb','fandangorating','fandangovotes']\n",
    "print(tabulate(templist2, headers2))\n",
    "print(len(templist2))\n",
    "```"
   ]
  },
  {
   "cell_type": "markdown",
   "metadata": {
    "tags": [
     "s8",
     "content",
     "l8"
    ]
   },
   "source": [
    "From above code we can see that INNER JOIN and LEFT JOIN produce almost the same output. This is because the fscore table is a subset of fscrape table.\n",
    "\n",
    "As of now, RIGHT OUTER JOIN and FULL OUTER JOIN are not supported by the sqlite module.\n",
    "\n",
    "### Stored Procedures, Triggers and Materialized Views\n",
    "\n",
    "Stored procedures, triggers and materialized views are some of the advanced SQL concepts. A stored procedure is a set of instructions/SQL queries which performs a logical action on the database server and is executed on a recurring basis, much like a standard operating procedure. A trigger is a type of stored procedure, which is set to automatically execute when a certain event occurs in the database (Eg. Say a record in a specific table is updated or deleted). A view is the output of a sql query which is presented in the console, but not stored on disk. When this output is stored on disk, in the form of a structure, in order to retrieve it frequently (instead of having to run the query again), it is called a materialized view.\n",
    "\n",
    "Some additional reading on the above topics:\n",
    "Stored procedures: https://en.wikipedia.org/wiki/Stored_procedure, https://www.tutorialspoint.com/t_sql/t_sql_stored_procedures.htm\n",
    "\n",
    "Triggers: https://www.tutorialspoint.com/plsql/plsql_triggers.htm\n",
    "\n",
    "Materialized views: https://en.wikipedia.org/wiki/Materialized_view, http://www.postgresqltutorial.com/postgresql-materialized-views/\n",
    "\n",
    "The above concepts are not supported by sqlite module."
   ]
  },
  {
   "cell_type": "code",
   "execution_count": 1,
   "metadata": {
    "ExecuteTime": {
     "end_time": "2018-09-11T16:04:10.298460Z",
     "start_time": "2018-09-11T16:04:10.292473Z"
    },
    "collapsed": true,
    "tags": [
     "s8",
     "ce",
     "l8"
    ]
   },
   "outputs": [],
   "source": [
    "# No exercise"
   ]
  },
  {
   "cell_type": "markdown",
   "metadata": {
    "collapsed": true,
    "hide_input": true,
    "tags": [
     "s8",
     "l8",
     "hint"
    ]
   },
   "source": [
    "### Solution code\n",
    "\n",
    "```python\n",
    "# No exercise\n",
    "```"
   ]
  }
 ],
 "metadata": {
  "celltoolbar": "Edit Metadata",
  "executed_sections": [],
  "kernelspec": {
   "display_name": "Python 3",
   "language": "python",
   "name": "python3"
  },
  "language_info": {
   "codemirror_mode": {
    "name": "ipython",
    "version": 3
   },
   "file_extension": ".py",
   "mimetype": "text/x-python",
   "name": "python",
   "nbconvert_exporter": "python",
   "pygments_lexer": "ipython3",
   "version": "3.6.6"
  },
  "rf_version": 1
 },
 "nbformat": 4,
 "nbformat_minor": 2
}
