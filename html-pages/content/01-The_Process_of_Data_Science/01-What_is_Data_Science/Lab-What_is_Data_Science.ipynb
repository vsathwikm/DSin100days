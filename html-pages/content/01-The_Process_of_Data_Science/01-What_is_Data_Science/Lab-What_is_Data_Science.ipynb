{
 "cells": [
  {
   "cell_type": "markdown",
   "metadata": {},
   "source": [
    "# My objective of for next 100 days\n",
    "\n",
    "Provide a 1 page write up (minimum 500 and maximum 1500 words), on why you want to become a data scientist and how you plan on accomplishing that. E.g., \n",
    "* How many hours of additional study you are aiming to put in?\n",
    "* What you want to do within and beyond this course to accomplish your goals?\n",
    "* Any bright ideas as to how to effectively and quickly acheive your goal?\n",
    "\n",
    "Retain a copy with yourself and keep reading it from time to time assessing what you have done so far and what needs to be done.\n"
   ]
  },
  {
   "cell_type": "markdown",
   "metadata": {},
   "source": [
    "## Start writing here\n",
    "\n",
    "..."
   ]
  }
 ],
 "metadata": {
  "kernelspec": {
   "display_name": "Python 3",
   "language": "python",
   "name": "python3"
  },
  "language_info": {
   "codemirror_mode": {
    "name": "ipython",
    "version": 3
   },
   "file_extension": ".py",
   "mimetype": "text/x-python",
   "name": "python",
   "nbconvert_exporter": "python",
   "pygments_lexer": "ipython3",
   "version": "3.6.1"
  }
 },
 "nbformat": 4,
 "nbformat_minor": 2
}
